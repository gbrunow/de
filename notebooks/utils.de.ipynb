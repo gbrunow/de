{
 "cells": [
  {
   "cell_type": "markdown",
   "metadata": {},
   "source": [
    "# DE Utils"
   ]
  },
  {
   "cell_type": "code",
   "execution_count": 1,
   "metadata": {
    "ExecuteTime": {
     "end_time": "2019-01-23T09:17:18.169634Z",
     "start_time": "2019-01-23T09:17:18.163858Z"
    }
   },
   "outputs": [],
   "source": [
    "import numpy as np\n",
    "import sys\n",
    "import os\n",
    "sys.path.insert(0, os.path.join(os.getcwd(), '..', 'src'))\n",
    "from utils import de\n",
    "from benchmark.simple import rosenbrock, rastrigin, shubert"
   ]
  },
  {
   "cell_type": "markdown",
   "metadata": {},
   "source": [
    "## Functions"
   ]
  },
  {
   "cell_type": "markdown",
   "metadata": {},
   "source": [
    "### Initialize"
   ]
  },
  {
   "cell_type": "code",
   "execution_count": 2,
   "metadata": {
    "ExecuteTime": {
     "end_time": "2019-01-23T09:17:18.213621Z",
     "start_time": "2019-01-23T09:17:18.209397Z"
    }
   },
   "outputs": [
    {
     "name": "stdout",
     "output_type": "stream",
     "text": [
      "[[-1.72427182 -1.7164983  -9.04622636  2.26771926  8.88258361]\n",
      " [ 4.807607    3.2504122   8.97163553  1.20871709 -9.75733716]]\n"
     ]
    }
   ],
   "source": [
    "pop = de.populate(\n",
    "    size = 5,\n",
    "    boundaries = [(-10,10), (-10,10)]\n",
    ")\n",
    "\n",
    "print(pop)"
   ]
  },
  {
   "cell_type": "markdown",
   "metadata": {},
   "source": [
    "### Mutate"
   ]
  },
  {
   "cell_type": "code",
   "execution_count": 3,
   "metadata": {
    "ExecuteTime": {
     "end_time": "2019-01-23T09:17:18.235330Z",
     "start_time": "2019-01-23T09:17:18.231774Z"
    }
   },
   "outputs": [
    {
     "name": "stdout",
     "output_type": "stream",
     "text": [
      "[[-1.72815858 -7.37347111 -3.7466854  -1.39714477  5.21771958]\n",
      " [ 5.5862044   7.13187141  2.46776084  4.06932876 -6.8967255 ]]\n"
     ]
    }
   ],
   "source": [
    "mutants = de.mutate(population = pop, factor = 0.5)\n",
    "print(mutants)"
   ]
  },
  {
   "cell_type": "markdown",
   "metadata": {},
   "source": [
    "### Crossover"
   ]
  },
  {
   "cell_type": "code",
   "execution_count": 4,
   "metadata": {
    "ExecuteTime": {
     "end_time": "2019-01-23T09:17:18.259963Z",
     "start_time": "2019-01-23T09:17:18.256212Z"
    }
   },
   "outputs": [
    {
     "name": "stdout",
     "output_type": "stream",
     "text": [
      "[[-1.72815858 -1.7164983  -9.04622636  2.26771926  5.21771958]\n",
      " [ 5.5862044   7.13187141  2.46776084  4.06932876 -6.8967255 ]]\n"
     ]
    }
   ],
   "source": [
    "trials = de.cross(population = pop, mutants = mutants, rate = 0.25)\n",
    "print(trials)"
   ]
  },
  {
   "cell_type": "markdown",
   "metadata": {
    "heading_collapsed": true
   },
   "source": [
    "### Selection"
   ]
  },
  {
   "cell_type": "code",
   "execution_count": 5,
   "metadata": {
    "ExecuteTime": {
     "end_time": "2019-01-23T09:17:18.283672Z",
     "start_time": "2019-01-23T09:17:18.279995Z"
    },
    "hidden": true
   },
   "outputs": [
    {
     "name": "stdout",
     "output_type": "stream",
     "text": [
      "[[-1.72427182 -1.7164983  -9.04622636  2.26771926  5.21771958]\n",
      " [ 4.807607    3.2504122   8.97163553  4.06932876 -6.8967255 ]]\n"
     ]
    }
   ],
   "source": [
    "generation = de.select(population = pop, trials = trials, fitness = rosenbrock)\n",
    "print(generation)"
   ]
  },
  {
   "cell_type": "markdown",
   "metadata": {},
   "source": [
    "## Optimization"
   ]
  },
  {
   "cell_type": "markdown",
   "metadata": {},
   "source": [
    "### Rosenbrock"
   ]
  },
  {
   "cell_type": "code",
   "execution_count": 6,
   "metadata": {
    "ExecuteTime": {
     "end_time": "2019-01-23T09:17:18.452961Z",
     "start_time": "2019-01-23T09:17:18.326880Z"
    }
   },
   "outputs": [
    {
     "name": "stdout",
     "output_type": "stream",
     "text": [
      "[1. 1.]\n",
      "6.7053176943786e-30\n"
     ]
    }
   ],
   "source": [
    "best = de.optimize(\n",
    "    populationSize = 20,\n",
    "    boundaries = [(-10,10), (-10,10)],\n",
    "    mutationFactor = 0.5,\n",
    "    crossingRate = 0.5,\n",
    "    fitness = rosenbrock,\n",
    "    generations = 1500\n",
    ")\n",
    "\n",
    "print(best)\n",
    "print(rosenbrock(best))"
   ]
  },
  {
   "cell_type": "markdown",
   "metadata": {},
   "source": [
    "### Rastrigin"
   ]
  },
  {
   "cell_type": "code",
   "execution_count": 7,
   "metadata": {
    "ExecuteTime": {
     "end_time": "2019-01-23T09:17:18.602348Z",
     "start_time": "2019-01-23T09:17:18.455374Z"
    }
   },
   "outputs": [
    {
     "name": "stdout",
     "output_type": "stream",
     "text": [
      "[-5.41840097e-10 -2.35668399e-09]\n",
      "0.0\n"
     ]
    }
   ],
   "source": [
    "best = de.optimize(\n",
    "    populationSize = 20,\n",
    "    boundaries = [(-10,10), (-10,10)],\n",
    "    mutationFactor = 0.5,\n",
    "    crossingRate = 0.5,\n",
    "    fitness = rastrigin,\n",
    "    generations = 1500\n",
    ")\n",
    "\n",
    "print(best)\n",
    "print(rastrigin(best))"
   ]
  },
  {
   "cell_type": "markdown",
   "metadata": {},
   "source": [
    "### Shubert"
   ]
  },
  {
   "cell_type": "code",
   "execution_count": 8,
   "metadata": {
    "ExecuteTime": {
     "end_time": "2019-01-23T09:17:18.829290Z",
     "start_time": "2019-01-23T09:17:18.604219Z"
    }
   },
   "outputs": [
    {
     "name": "stdout",
     "output_type": "stream",
     "text": [
      "[  24.3324201  2337.77006216]\n",
      "[-186.73090883]\n"
     ]
    }
   ],
   "source": [
    "best = de.optimize(\n",
    "    populationSize = 20,\n",
    "    boundaries = [(-10,10), (-10,10)],\n",
    "    mutationFactor = 0.5,\n",
    "    crossingRate = 0.5,\n",
    "    fitness = shubert,\n",
    "    generations = 1500\n",
    ")\n",
    "\n",
    "print(best)\n",
    "print(shubert(best))"
   ]
  },
  {
   "cell_type": "code",
   "execution_count": null,
   "metadata": {},
   "outputs": [],
   "source": []
  }
 ],
 "metadata": {
  "kernelspec": {
   "display_name": "Python 3",
   "language": "python",
   "name": "python3"
  },
  "language_info": {
   "codemirror_mode": {
    "name": "ipython",
    "version": 3
   },
   "file_extension": ".py",
   "mimetype": "text/x-python",
   "name": "python",
   "nbconvert_exporter": "python",
   "pygments_lexer": "ipython3",
   "version": "3.7.1"
  },
  "toc": {
   "base_numbering": 1,
   "nav_menu": {},
   "number_sections": true,
   "sideBar": true,
   "skip_h1_title": false,
   "title_cell": "Table of Contents",
   "title_sidebar": "Contents",
   "toc_cell": false,
   "toc_position": {},
   "toc_section_display": true,
   "toc_window_display": false
  },
  "varInspector": {
   "cols": {
    "lenName": 16,
    "lenType": 16,
    "lenVar": 40
   },
   "kernels_config": {
    "python": {
     "delete_cmd_postfix": "",
     "delete_cmd_prefix": "del ",
     "library": "var_list.py",
     "varRefreshCmd": "print(var_dic_list())"
    },
    "r": {
     "delete_cmd_postfix": ") ",
     "delete_cmd_prefix": "rm(",
     "library": "var_list.r",
     "varRefreshCmd": "cat(var_dic_list()) "
    }
   },
   "types_to_exclude": [
    "module",
    "function",
    "builtin_function_or_method",
    "instance",
    "_Feature"
   ],
   "window_display": false
  }
 },
 "nbformat": 4,
 "nbformat_minor": 2
}
