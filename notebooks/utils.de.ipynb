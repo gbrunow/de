{
 "cells": [
  {
   "cell_type": "code",
   "execution_count": 1,
   "metadata": {},
   "outputs": [],
   "source": [
    "import numpy as np\n",
    "import sys\n",
    "import os\n",
    "sys.path.insert(0, os.path.join(os.getcwd(), '..', 'src'))\n",
    "from utils import de\n",
    "from benchmark.simple import rosenbrock"
   ]
  },
  {
   "cell_type": "code",
   "execution_count": 2,
   "metadata": {},
   "outputs": [
    {
     "name": "stdout",
     "output_type": "stream",
     "text": [
      "[[-2.79634253  4.40412018 -0.57357746 -0.96213331 -1.35035713]\n",
      " [-1.9339756   1.82320796 -4.53969039  4.5665814  -0.84454448]]\n"
     ]
    }
   ],
   "source": [
    "pop = de.populate(\n",
    "    size = 5,\n",
    "    min = -5,\n",
    "    max = 5,\n",
    "    dimensions = 2\n",
    ")\n",
    "\n",
    "print(pop)"
   ]
  },
  {
   "cell_type": "code",
   "execution_count": 3,
   "metadata": {},
   "outputs": [
    {
     "name": "stdout",
     "output_type": "stream",
     "text": [
      "[[-1.87923792  1.72099344 -0.76785538 -0.0450287  -2.26746173]\n",
      " [ 1.3163029   3.19489468  0.0134455   7.81685989 -4.09482298]]\n"
     ]
    }
   ],
   "source": [
    "mutants = de.mutate(population = pop, factor = 0.5)\n",
    "print(mutants)"
   ]
  },
  {
   "cell_type": "code",
   "execution_count": 4,
   "metadata": {},
   "outputs": [
    {
     "name": "stdout",
     "output_type": "stream",
     "text": [
      "[[-1.87923792  1.72099344 -0.76785538 -0.96213331 -1.35035713]\n",
      " [ 1.3163029   3.19489468 -4.53969039  7.81685989 -0.84454448]]\n"
     ]
    }
   ],
   "source": [
    "trials = de.cross(population = pop, mutants = mutants, rate = 0.25)\n",
    "print(trials)"
   ]
  },
  {
   "cell_type": "code",
   "execution_count": 5,
   "metadata": {},
   "outputs": [
    {
     "name": "stdout",
     "output_type": "stream",
     "text": [
      "[[-1.87923792  1.72099344 -0.57357746 -0.96213331 -1.35035713]\n",
      " [ 1.3163029   3.19489468 -4.53969039  4.5665814  -0.84454448]]\n"
     ]
    }
   ],
   "source": [
    "generation = de.select(population = pop, trials = trials, fitness = rosenbrock)\n",
    "print(generation)"
   ]
  },
  {
   "cell_type": "code",
   "execution_count": 6,
   "metadata": {},
   "outputs": [
    {
     "name": "stdout",
     "output_type": "stream",
     "text": [
      "[1. 1.]\n"
     ]
    }
   ],
   "source": [
    "best = de.optimize(\n",
    "    populationSize = 20,\n",
    "    dimentions = 2,\n",
    "    min = -10,\n",
    "    max = 10,\n",
    "    mutationFactor = 0.25,\n",
    "    crossingRate = 0.25,\n",
    "    fitness = rosenbrock,\n",
    "    generations = 5000,\n",
    ")\n",
    "\n",
    "print(best)"
   ]
  },
  {
   "cell_type": "code",
   "execution_count": null,
   "metadata": {},
   "outputs": [],
   "source": []
  }
 ],
 "metadata": {
  "kernelspec": {
   "display_name": "Python 3",
   "language": "python",
   "name": "python3"
  },
  "language_info": {
   "codemirror_mode": {
    "name": "ipython",
    "version": 3
   },
   "file_extension": ".py",
   "mimetype": "text/x-python",
   "name": "python",
   "nbconvert_exporter": "python",
   "pygments_lexer": "ipython3",
   "version": "3.7.1"
  }
 },
 "nbformat": 4,
 "nbformat_minor": 2
}
