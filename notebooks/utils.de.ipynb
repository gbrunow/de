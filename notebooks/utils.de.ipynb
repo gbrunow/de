{
 "cells": [
  {
   "cell_type": "markdown",
   "metadata": {},
   "source": [
    "# DE Utils"
   ]
  },
  {
   "cell_type": "code",
   "execution_count": 1,
   "metadata": {},
   "outputs": [],
   "source": [
    "import numpy as np\n",
    "import sys\n",
    "import os\n",
    "sys.path.insert(0, os.path.join(os.getcwd(), '..', 'src'))\n",
    "from utils import de\n",
    "from benchmark.simple import rosenbrock, rastrigin"
   ]
  },
  {
   "cell_type": "markdown",
   "metadata": {},
   "source": [
    "## Initialize population"
   ]
  },
  {
   "cell_type": "code",
   "execution_count": 2,
   "metadata": {},
   "outputs": [
    {
     "name": "stdout",
     "output_type": "stream",
     "text": [
      "[[ 2.58063307  4.68579546 -3.30741995  3.39386604  1.46757085]\n",
      " [ 1.50219587 -2.8557604  -2.16399528  3.37662826  1.09429971]]\n"
     ]
    }
   ],
   "source": [
    "pop = de.populate(\n",
    "    size = 5,\n",
    "    min = -5,\n",
    "    max = 5,\n",
    "    dimensions = 2\n",
    ")\n",
    "\n",
    "print(pop)"
   ]
  },
  {
   "cell_type": "markdown",
   "metadata": {},
   "source": [
    "## Mutate population"
   ]
  },
  {
   "cell_type": "code",
   "execution_count": 3,
   "metadata": {},
   "outputs": [
    {
     "name": "stdout",
     "output_type": "stream",
     "text": [
      "[[ 4.96812847  5.33176017 -3.86395106  3.80048253  2.43071845]\n",
      " [ 3.13134337 -5.97195473 -2.36794336  4.31384446  2.23546399]]\n"
     ]
    }
   ],
   "source": [
    "mutants = de.mutate(population = pop, factor = 0.5)\n",
    "print(mutants)"
   ]
  },
  {
   "cell_type": "markdown",
   "metadata": {},
   "source": [
    "## Crossover"
   ]
  },
  {
   "cell_type": "code",
   "execution_count": 4,
   "metadata": {},
   "outputs": [
    {
     "name": "stdout",
     "output_type": "stream",
     "text": [
      "[[ 4.96812847  5.33176017 -3.86395106  3.80048253  2.43071845]\n",
      " [ 3.13134337 -5.97195473 -2.36794336  3.37662826  2.23546399]]\n"
     ]
    }
   ],
   "source": [
    "trials = de.cross(population = pop, mutants = mutants, rate = 0.25)\n",
    "print(trials)"
   ]
  },
  {
   "cell_type": "markdown",
   "metadata": {},
   "source": [
    "## Selection"
   ]
  },
  {
   "cell_type": "code",
   "execution_count": 5,
   "metadata": {},
   "outputs": [
    {
     "name": "stdout",
     "output_type": "stream",
     "text": [
      "[[ 2.58063307  4.68579546 -3.30741995  3.39386604  1.46757085]\n",
      " [ 1.50219587 -2.8557604  -2.16399528  3.37662826  1.09429971]]\n"
     ]
    }
   ],
   "source": [
    "generation = de.select(population = pop, trials = trials, fitness = rosenbrock)\n",
    "print(generation)"
   ]
  },
  {
   "cell_type": "markdown",
   "metadata": {},
   "source": [
    "## Optimization"
   ]
  },
  {
   "cell_type": "markdown",
   "metadata": {},
   "source": [
    "### Rosenbrock"
   ]
  },
  {
   "cell_type": "code",
   "execution_count": 6,
   "metadata": {},
   "outputs": [],
   "source": [
    "NP = 20\n",
    "D = 50\n",
    "min = -10\n",
    "max = 10\n",
    "F = 0.25\n",
    "CR = 0.25\n",
    "fitness = rosenbrock\n",
    "n = 250"
   ]
  },
  {
   "cell_type": "code",
   "execution_count": 7,
   "metadata": {},
   "outputs": [
    {
     "name": "stdout",
     "output_type": "stream",
     "text": [
      "0.009158849545871156\n"
     ]
    }
   ],
   "source": [
    "best = de.optimize(\n",
    "    populationSize = NP,\n",
    "    dimentions = D,\n",
    "    min = min,\n",
    "    max = max,\n",
    "    mutationFactor = F,\n",
    "    crossingRate = CR,\n",
    "    fitness = fitness,\n",
    "    generations = n,\n",
    "    controlDiversity = False\n",
    ")\n",
    "\n",
    "print(rosenbrock(best))"
   ]
  },
  {
   "cell_type": "code",
   "execution_count": 8,
   "metadata": {},
   "outputs": [
    {
     "name": "stdout",
     "output_type": "stream",
     "text": [
      "0.01712698835063424\n"
     ]
    }
   ],
   "source": [
    "best = de.optimize(\n",
    "    populationSize = NP,\n",
    "    dimentions = D,\n",
    "    min = min,\n",
    "    max = max,\n",
    "    mutationFactor = F,\n",
    "    crossingRate = CR,\n",
    "    fitness = fitness,\n",
    "    generations = n,\n",
    "    controlDiversity = True\n",
    ")\n",
    "\n",
    "print(rosenbrock(best))"
   ]
  },
  {
   "cell_type": "markdown",
   "metadata": {},
   "source": [
    "### Rastrigin"
   ]
  },
  {
   "cell_type": "code",
   "execution_count": 9,
   "metadata": {},
   "outputs": [],
   "source": [
    "NP = 100\n",
    "D = 100\n",
    "min = -10\n",
    "max = 10\n",
    "F = 0.25\n",
    "CR = 0.25\n",
    "fitness = rastrigin\n",
    "n = 1500"
   ]
  },
  {
   "cell_type": "code",
   "execution_count": 10,
   "metadata": {},
   "outputs": [
    {
     "name": "stdout",
     "output_type": "stream",
     "text": [
      "936.9561498867612\n"
     ]
    }
   ],
   "source": [
    "best = de.optimize(\n",
    "    populationSize = NP,\n",
    "    dimentions = D,\n",
    "    min = min,\n",
    "    max = max,\n",
    "    mutationFactor = F,\n",
    "    crossingRate = CR,\n",
    "    fitness = fitness,\n",
    "    generations = n,\n",
    "    controlDiversity = False\n",
    ")\n",
    "\n",
    "print(rastrigin(best))"
   ]
  },
  {
   "cell_type": "code",
   "execution_count": 11,
   "metadata": {},
   "outputs": [
    {
     "name": "stdout",
     "output_type": "stream",
     "text": [
      "914.414860952465\n"
     ]
    }
   ],
   "source": [
    "best = de.optimize(\n",
    "    populationSize = NP,\n",
    "    dimentions = D,\n",
    "    min = min,\n",
    "    max = max,\n",
    "    mutationFactor = F,\n",
    "    crossingRate = CR,\n",
    "    fitness = fitness,\n",
    "    generations = n,\n",
    "    controlDiversity = True\n",
    ")\n",
    "\n",
    "print(rastrigin(best))\n"
   ]
  },
  {
   "cell_type": "code",
   "execution_count": null,
   "metadata": {},
   "outputs": [],
   "source": []
  }
 ],
 "metadata": {
  "kernelspec": {
   "display_name": "Python 3",
   "language": "python",
   "name": "python3"
  },
  "language_info": {
   "codemirror_mode": {
    "name": "ipython",
    "version": 3
   },
   "file_extension": ".py",
   "mimetype": "text/x-python",
   "name": "python",
   "nbconvert_exporter": "python",
   "pygments_lexer": "ipython3",
   "version": "3.7.1"
  },
  "toc": {
   "base_numbering": 1,
   "nav_menu": {},
   "number_sections": true,
   "sideBar": true,
   "skip_h1_title": false,
   "title_cell": "Table of Contents",
   "title_sidebar": "Contents",
   "toc_cell": false,
   "toc_position": {},
   "toc_section_display": true,
   "toc_window_display": false
  },
  "varInspector": {
   "cols": {
    "lenName": 16,
    "lenType": 16,
    "lenVar": 40
   },
   "kernels_config": {
    "python": {
     "delete_cmd_postfix": "",
     "delete_cmd_prefix": "del ",
     "library": "var_list.py",
     "varRefreshCmd": "print(var_dic_list())"
    },
    "r": {
     "delete_cmd_postfix": ") ",
     "delete_cmd_prefix": "rm(",
     "library": "var_list.r",
     "varRefreshCmd": "cat(var_dic_list()) "
    }
   },
   "types_to_exclude": [
    "module",
    "function",
    "builtin_function_or_method",
    "instance",
    "_Feature"
   ],
   "window_display": false
  }
 },
 "nbformat": 4,
 "nbformat_minor": 2
}
