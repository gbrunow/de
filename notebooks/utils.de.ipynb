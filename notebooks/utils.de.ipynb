{
 "cells": [
  {
   "cell_type": "markdown",
   "metadata": {},
   "source": [
    "# DE Utils"
   ]
  },
  {
   "cell_type": "code",
   "execution_count": 1,
   "metadata": {},
   "outputs": [],
   "source": [
    "import numpy as np\n",
    "import sys\n",
    "import os\n",
    "sys.path.insert(0, os.path.join(os.getcwd(), '..', 'src'))\n",
    "from utils import de\n",
    "from benchmark.simple import rosenbrock, rastrigin"
   ]
  },
  {
   "cell_type": "markdown",
   "metadata": {},
   "source": [
    "## Initialize population"
   ]
  },
  {
   "cell_type": "code",
   "execution_count": 2,
   "metadata": {},
   "outputs": [
    {
     "name": "stdout",
     "output_type": "stream",
     "text": [
      "[[ 3.6160174   4.38806243  1.0649642  -2.24662635 -3.79310056]\n",
      " [ 3.97053836  0.77378613 -2.7542938  -4.49009413 -0.32211992]]\n"
     ]
    }
   ],
   "source": [
    "pop = de.populate(\n",
    "    size = 5,\n",
    "    min = -5,\n",
    "    max = 5,\n",
    "    dimensions = 2\n",
    ")\n",
    "\n",
    "print(pop)"
   ]
  },
  {
   "cell_type": "markdown",
   "metadata": {},
   "source": [
    "## Mutate population"
   ]
  },
  {
   "cell_type": "code",
   "execution_count": 3,
   "metadata": {},
   "outputs": [
    {
     "name": "stdout",
     "output_type": "stream",
     "text": [
      "[[ 0.68469553  6.0438577   2.72075947 -3.01986345 -6.22213294]\n",
      " [-0.25977788  1.64168629 -1.88639364 -2.40610702  0.89396703]]\n"
     ]
    }
   ],
   "source": [
    "mutants = de.mutate(population = pop, factor = 0.5)\n",
    "print(mutants)"
   ]
  },
  {
   "cell_type": "markdown",
   "metadata": {},
   "source": [
    "## Crossover"
   ]
  },
  {
   "cell_type": "code",
   "execution_count": 4,
   "metadata": {},
   "outputs": [
    {
     "name": "stdout",
     "output_type": "stream",
     "text": [
      "[[ 0.68469553  6.0438577   1.0649642  -2.24662635 -6.22213294]\n",
      " [-0.25977788  1.64168629 -1.88639364 -2.40610702 -0.32211992]]\n"
     ]
    }
   ],
   "source": [
    "trials = de.cross(population = pop, mutants = mutants, rate = 0.25)\n",
    "print(trials)"
   ]
  },
  {
   "cell_type": "markdown",
   "metadata": {},
   "source": [
    "## Selection"
   ]
  },
  {
   "cell_type": "code",
   "execution_count": 5,
   "metadata": {},
   "outputs": [
    {
     "name": "stdout",
     "output_type": "stream",
     "text": [
      "[[ 0.68469553  4.38806243  1.0649642  -2.24662635 -3.79310056]\n",
      " [-0.25977788  0.77378613 -1.88639364 -2.40610702 -0.32211992]]\n"
     ]
    }
   ],
   "source": [
    "generation = de.select(population = pop, trials = trials, fitness = rosenbrock)\n",
    "print(generation)"
   ]
  },
  {
   "cell_type": "markdown",
   "metadata": {},
   "source": [
    "## Optimization"
   ]
  },
  {
   "cell_type": "code",
   "execution_count": 6,
   "metadata": {},
   "outputs": [
    {
     "name": "stdout",
     "output_type": "stream",
     "text": [
      "[1. 1.]\n"
     ]
    }
   ],
   "source": [
    "best = de.optimize(\n",
    "    populationSize = 20,\n",
    "    dimentions = 2,\n",
    "    min = -10,\n",
    "    max = 10,\n",
    "    mutationFactor = 0.25,\n",
    "    crossingRate = 0.25,\n",
    "    fitness = rosenbrock,\n",
    "    generations = 5000,\n",
    ")\n",
    "\n",
    "print(best)"
   ]
  },
  {
   "cell_type": "code",
   "execution_count": 7,
   "metadata": {},
   "outputs": [
    {
     "name": "stdout",
     "output_type": "stream",
     "text": [
      "[ 8.76281357e-10 -2.08401840e-09]\n"
     ]
    }
   ],
   "source": [
    "best = de.optimize(\n",
    "    populationSize = 20,\n",
    "    dimentions = 2,\n",
    "    min = -10,\n",
    "    max = 10,\n",
    "    mutationFactor = 0.25,\n",
    "    crossingRate = 0.25,\n",
    "    fitness = rastrigin,\n",
    "    generations = 5000,\n",
    ")\n",
    "\n",
    "print(best)"
   ]
  },
  {
   "cell_type": "code",
   "execution_count": null,
   "metadata": {},
   "outputs": [],
   "source": []
  },
  {
   "cell_type": "code",
   "execution_count": null,
   "metadata": {},
   "outputs": [],
   "source": []
  }
 ],
 "metadata": {
  "kernelspec": {
   "display_name": "Python 3",
   "language": "python",
   "name": "python3"
  },
  "language_info": {
   "codemirror_mode": {
    "name": "ipython",
    "version": 3
   },
   "file_extension": ".py",
   "mimetype": "text/x-python",
   "name": "python",
   "nbconvert_exporter": "python",
   "pygments_lexer": "ipython3",
   "version": "3.7.1"
  }
 },
 "nbformat": 4,
 "nbformat_minor": 2
}
