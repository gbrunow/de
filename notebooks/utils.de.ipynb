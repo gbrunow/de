{
 "cells": [
  {
   "cell_type": "markdown",
   "metadata": {},
   "source": [
    "# DE Utils"
   ]
  },
  {
   "cell_type": "code",
   "execution_count": 41,
   "metadata": {
    "ExecuteTime": {
     "end_time": "2019-01-24T05:16:26.875960Z",
     "start_time": "2019-01-24T05:16:26.872310Z"
    }
   },
   "outputs": [],
   "source": [
    "import numpy as np\n",
    "import sys\n",
    "import os\n",
    "sys.path.insert(0, os.path.join(os.getcwd(), '..', 'src'))\n",
    "from utils import de\n",
    "from benchmark.simple import rosenbrock, rastrigin, shubert"
   ]
  },
  {
   "cell_type": "markdown",
   "metadata": {},
   "source": [
    "## Functions"
   ]
  },
  {
   "cell_type": "markdown",
   "metadata": {},
   "source": [
    "### Initialize"
   ]
  },
  {
   "cell_type": "code",
   "execution_count": 6,
   "metadata": {
    "ExecuteTime": {
     "end_time": "2019-01-24T04:15:42.837536Z",
     "start_time": "2019-01-24T04:15:42.831678Z"
    }
   },
   "outputs": [
    {
     "name": "stdout",
     "output_type": "stream",
     "text": [
      "(2, 5)\n",
      "(2, 5)\n",
      "[[ 1.35789976 -1.98379183  9.87077112  5.58319789  9.12101167]\n",
      " [ 6.2952116  -0.83211792  2.58054659 -3.7151826   1.10650595]]\n"
     ]
    }
   ],
   "source": [
    "pop = de.populate(\n",
    "    size = 5,\n",
    "    boundaries = [(-10,10), (-10,10)]\n",
    ")\n",
    "\n",
    "pop2 = de.populate(\n",
    "    size = 5,\n",
    "    boundaries = [(-10,10)],\n",
    "    dimensions = 2\n",
    ")\n",
    "\n",
    "print(pop.shape)\n",
    "print(pop2.shape)\n",
    "\n",
    "print(pop)"
   ]
  },
  {
   "cell_type": "markdown",
   "metadata": {},
   "source": [
    "### Mutate"
   ]
  },
  {
   "cell_type": "code",
   "execution_count": null,
   "metadata": {
    "ExecuteTime": {
     "end_time": "2019-01-23T09:17:18.235330Z",
     "start_time": "2019-01-23T09:17:18.231774Z"
    }
   },
   "outputs": [],
   "source": [
    "mutants = de.mutate(population = pop, factor = 0.5)\n",
    "print(mutants)"
   ]
  },
  {
   "cell_type": "markdown",
   "metadata": {},
   "source": [
    "### Crossover"
   ]
  },
  {
   "cell_type": "code",
   "execution_count": null,
   "metadata": {
    "ExecuteTime": {
     "end_time": "2019-01-23T09:17:18.259963Z",
     "start_time": "2019-01-23T09:17:18.256212Z"
    }
   },
   "outputs": [],
   "source": [
    "trials = de.cross(population = pop, mutants = mutants, rate = 0.25)\n",
    "print(trials)"
   ]
  },
  {
   "cell_type": "markdown",
   "metadata": {
    "heading_collapsed": true
   },
   "source": [
    "### Selection"
   ]
  },
  {
   "cell_type": "code",
   "execution_count": null,
   "metadata": {
    "ExecuteTime": {
     "end_time": "2019-01-23T09:17:18.283672Z",
     "start_time": "2019-01-23T09:17:18.279995Z"
    },
    "hidden": true
   },
   "outputs": [],
   "source": [
    "generation = de.select(population = pop, trials = trials, fitness = rosenbrock)\n",
    "print(generation)"
   ]
  },
  {
   "cell_type": "markdown",
   "metadata": {},
   "source": [
    "## Optimization"
   ]
  },
  {
   "cell_type": "markdown",
   "metadata": {},
   "source": [
    "### Rosenbrock"
   ]
  },
  {
   "cell_type": "code",
   "execution_count": 8,
   "metadata": {
    "ExecuteTime": {
     "end_time": "2019-01-24T04:16:23.031737Z",
     "start_time": "2019-01-24T04:16:22.925174Z"
    }
   },
   "outputs": [
    {
     "name": "stdout",
     "output_type": "stream",
     "text": [
      "[1. 1.]\n",
      "7.888609052210118e-31\n"
     ]
    }
   ],
   "source": [
    "best = de.optimize(\n",
    "    populationSize = 20,\n",
    "    boundaries = [(-10,10), (-10,10)],\n",
    "    mutationFactor = 0.5,\n",
    "    crossingRate = 0.5,\n",
    "    fitness = rosenbrock,\n",
    "    generations = 1500\n",
    ")\n",
    "\n",
    "print(best)\n",
    "print(rosenbrock(best))"
   ]
  },
  {
   "cell_type": "markdown",
   "metadata": {},
   "source": [
    "### Rastrigin"
   ]
  },
  {
   "cell_type": "code",
   "execution_count": 20,
   "metadata": {
    "ExecuteTime": {
     "end_time": "2019-01-24T04:20:52.601626Z",
     "start_time": "2019-01-24T04:20:50.922446Z"
    }
   },
   "outputs": [
    {
     "name": "stdout",
     "output_type": "stream",
     "text": [
      "[ 1.15696937e+00  7.73737839e-01  3.02664216e-01  5.73610511e-01\n",
      " -3.53162262e-02 -9.31508024e-02  2.32111575e+00  1.00695526e-01\n",
      " -7.10820310e-01 -1.97731594e+00 -1.13774418e+00  9.57724791e-01\n",
      " -2.86455105e-01  2.00244987e+00 -1.39369499e+00 -3.31995792e+00\n",
      " -4.31894786e-01 -1.91597401e+00 -6.69658788e-01 -2.09698960e+00\n",
      " -2.19771635e-01 -3.58195360e-03  3.61525617e+00  9.94828475e-01\n",
      "  3.02133487e+00 -9.90461299e-01  1.18049949e+00 -8.57690104e-01\n",
      "  1.22446834e+00 -8.08413219e-01  9.93726884e-01 -1.02391071e+00\n",
      "  7.53223054e-01 -1.09408556e-03  1.62148804e-01 -2.13552704e+00\n",
      " -2.87831388e+00  1.76123224e+00 -6.97373555e-02  4.86778983e-01\n",
      "  1.46636549e+00 -2.05217623e+00  1.11429851e-02 -7.87046456e-02\n",
      "  1.91408868e+00 -2.24346287e-01  5.56882444e-01  3.44856118e-02\n",
      "  3.15210703e-01  1.61649380e+00  1.29681686e+00  1.92889168e+00\n",
      "  5.09999555e-01 -1.06450072e-01 -1.10853191e+00 -1.49932040e+00\n",
      "  2.37283932e-01  2.49556160e+00 -8.26695664e-01 -1.46370373e+00\n",
      "  1.34820536e+00 -1.08919422e-01 -2.08462681e+00 -2.00089792e+00\n",
      "  5.60521965e-01 -8.24708491e-01  1.21163328e+00  1.20022671e+00\n",
      " -2.99965089e+00 -3.09870396e-01  1.98092279e+00  2.35876726e+00\n",
      "  9.44099995e-01 -4.41521654e-01 -7.50589983e-01  3.04732954e+00\n",
      "  1.07096238e+00  5.08855964e-01  2.07266385e+00 -5.41347470e-01\n",
      "  2.21605955e+00 -3.08733260e+00  1.24138372e+00  1.37632845e+00\n",
      " -8.11124551e-01  4.72430949e-02  2.58675110e-02 -2.55241419e-01\n",
      " -5.09473129e+00 -5.94624141e-01 -2.12678864e+00 -7.14902972e-01\n",
      " -2.00203581e+00  2.65375289e-01  2.13597416e+00 -4.20904654e-01\n",
      " -1.96144173e+00 -4.23582184e-01 -1.93677481e+00 -1.32170159e+00\n",
      " -2.06301971e+00  9.09160085e-01 -5.57341890e-01  7.27532013e-01\n",
      "  4.41815048e-01  1.67193098e+00 -1.30672893e+00  7.51030591e-02\n",
      " -9.76548204e-01 -3.43019947e+00  8.06656122e-01  1.60826451e+00\n",
      "  2.05504481e+00  2.88818719e-01 -1.04839656e+00 -8.69609281e-01\n",
      " -3.55789836e-01 -2.57982599e+00  4.88116479e-03 -7.07668457e-04\n",
      " -2.69912941e+00  3.02490471e+00 -3.54635155e-01 -8.35768387e-01\n",
      " -1.30095805e-01  1.08896809e+00  9.13702905e-03 -9.34597880e-01\n",
      " -2.85076129e+00  1.00448859e+00 -2.08794494e+00 -1.88577710e+00\n",
      "  2.11526210e-01  2.26902831e+00  1.02664150e+00 -2.16936140e+00\n",
      "  8.89293864e-01  2.11219759e+00  1.95757220e+00 -2.03524192e+00\n",
      "  1.56897274e+00 -1.31814229e-01  1.01946066e+00 -1.30290423e+00\n",
      "  4.84872914e-01 -5.83034066e-01 -1.56133459e+00  1.93634113e+00\n",
      " -7.84392491e-01 -2.98290146e-02 -2.29743584e+00 -6.44843933e-01\n",
      "  1.41408308e+00  9.50876519e-01 -2.53357133e+00 -3.92069322e-02\n",
      "  1.00087087e+00  4.31294971e-01  1.58511666e+00  3.07080093e-01\n",
      "  4.36673165e-01  3.60360960e-01 -3.84786637e-01  9.28452914e-02\n",
      "  1.89695442e+00 -8.86985077e-01  3.34070409e+00 -1.76761435e-01\n",
      "  1.95831602e-01 -1.71506069e+00 -1.17620809e-01 -2.05794421e+00\n",
      "  3.04790580e+00 -7.65220742e-02  1.42729098e+00  9.95728845e-01\n",
      " -9.49515975e-02  1.19760398e-01 -1.87446332e+00  1.54915895e+00\n",
      "  1.16257109e+00  2.21631046e+00  4.06496634e-01 -4.88705370e-02\n",
      " -1.00495918e+00 -2.46886938e+00  1.46542232e+00  1.21356243e+00\n",
      " -3.87050606e-01  9.86462045e-01  1.43992084e-02  9.45749711e-03\n",
      "  1.95684131e+00  1.17895424e+00  1.25793476e-01  2.37174607e-02\n",
      "  3.16206101e-02 -2.53624683e-02 -2.37867147e+00 -9.62427032e-01]\n",
      "1962.5994380368454\n"
     ]
    }
   ],
   "source": [
    "best = de.optimize(\n",
    "    populationSize = 20,\n",
    "    boundaries = [(-10,10)],\n",
    "    dimensions = 200,\n",
    "    mutationFactor = 0.5,\n",
    "    crossingRate = 0.5,\n",
    "    fitness = rastrigin,\n",
    "    generations = 1500\n",
    ")\n",
    "\n",
    "print(best)\n",
    "print(rastrigin(best))"
   ]
  },
  {
   "cell_type": "markdown",
   "metadata": {},
   "source": [
    "### Shubert"
   ]
  },
  {
   "cell_type": "code",
   "execution_count": null,
   "metadata": {
    "ExecuteTime": {
     "end_time": "2019-01-24T03:39:55.236687Z",
     "start_time": "2019-01-24T03:39:55.050158Z"
    }
   },
   "outputs": [],
   "source": [
    "best = de.optimize(\n",
    "    populationSize = 20,\n",
    "    boundaries = [(-10,10), (-10,10)],\n",
    "    mutationFactor = 0.5,\n",
    "    crossingRate = 0.5,\n",
    "    fitness = shubert,\n",
    "    generations = 1500\n",
    ")\n",
    "\n",
    "print(best)\n",
    "print(shubert(best))"
   ]
  },
  {
   "cell_type": "code",
   "execution_count": 24,
   "metadata": {
    "ExecuteTime": {
     "end_time": "2019-01-24T04:27:15.560689Z",
     "start_time": "2019-01-24T04:27:15.557020Z"
    }
   },
   "outputs": [
    {
     "name": "stdout",
     "output_type": "stream",
     "text": [
      "[[-10  10]\n",
      " [-10  10]\n",
      " [-10  10]]\n"
     ]
    }
   ],
   "source": [
    "boundaries = np.array([(-10,10)]*3)\n",
    "print(boundaries)"
   ]
  },
  {
   "cell_type": "code",
   "execution_count": 38,
   "metadata": {
    "ExecuteTime": {
     "end_time": "2019-01-24T04:35:44.156718Z",
     "start_time": "2019-01-24T04:35:44.152154Z"
    }
   },
   "outputs": [
    {
     "name": "stdout",
     "output_type": "stream",
     "text": [
      "[-10.  -5.   0.   5.  10.]\n",
      "[-10.  -5.   0.   5.  10.]\n",
      "[-10.  -5.   0.   5.  10.]\n"
     ]
    }
   ],
   "source": [
    "for d in range(boundaries.shape[0]):\n",
    "    print(np.linspace(boundaries[d,0],boundaries[d,1],groups+1))"
   ]
  },
  {
   "cell_type": "code",
   "execution_count": null,
   "metadata": {},
   "outputs": [],
   "source": []
  }
 ],
 "metadata": {
  "kernelspec": {
   "display_name": "Python 3",
   "language": "python",
   "name": "python3"
  },
  "language_info": {
   "codemirror_mode": {
    "name": "ipython",
    "version": 3
   },
   "file_extension": ".py",
   "mimetype": "text/x-python",
   "name": "python",
   "nbconvert_exporter": "python",
   "pygments_lexer": "ipython3",
   "version": "3.7.1"
  },
  "toc": {
   "base_numbering": 1,
   "nav_menu": {},
   "number_sections": true,
   "sideBar": true,
   "skip_h1_title": false,
   "title_cell": "Table of Contents",
   "title_sidebar": "Contents",
   "toc_cell": false,
   "toc_position": {},
   "toc_section_display": true,
   "toc_window_display": false
  },
  "varInspector": {
   "cols": {
    "lenName": 16,
    "lenType": 16,
    "lenVar": 40
   },
   "kernels_config": {
    "python": {
     "delete_cmd_postfix": "",
     "delete_cmd_prefix": "del ",
     "library": "var_list.py",
     "varRefreshCmd": "print(var_dic_list())"
    },
    "r": {
     "delete_cmd_postfix": ") ",
     "delete_cmd_prefix": "rm(",
     "library": "var_list.r",
     "varRefreshCmd": "cat(var_dic_list()) "
    }
   },
   "types_to_exclude": [
    "module",
    "function",
    "builtin_function_or_method",
    "instance",
    "_Feature"
   ],
   "window_display": false
  }
 },
 "nbformat": 4,
 "nbformat_minor": 2
}
