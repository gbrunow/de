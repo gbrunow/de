{
 "cells": [
  {
   "cell_type": "code",
   "execution_count": 1,
   "metadata": {
    "ExecuteTime": {
     "end_time": "2019-01-25T16:48:46.822383Z",
     "start_time": "2019-01-25T16:48:46.810818Z"
    }
   },
   "outputs": [],
   "source": [
    "import numpy as np\n",
    "import sys\n",
    "import os\n",
    "sys.path.insert(0, os.path.join(os.getcwd(), '..', 'src'))\n",
    "from utils import de, dcde\n",
    "from benchmark.simple import rosenbrock, rastrigin, shubert\n",
    "from IPython.display import clear_output\n",
    "import time\n",
    "from prettytable import PrettyTable"
   ]
  },
  {
   "cell_type": "code",
   "execution_count": 2,
   "metadata": {
    "ExecuteTime": {
     "end_time": "2019-01-25T09:04:36.658882Z",
     "start_time": "2019-01-25T09:04:36.655546Z"
    }
   },
   "outputs": [],
   "source": [
    "runs = 1000\n",
    "\n",
    "populationSize = 20\n",
    "boundaries = [(-10,10)]\n",
    "dimensions = 2\n",
    "mutationFactor = 0.5\n",
    "crossingRate = 0.5\n",
    "fitness = shubert\n",
    "maxgens = 10e3\n",
    "stopDiff = 1e-7"
   ]
  },
  {
   "cell_type": "code",
   "execution_count": 3,
   "metadata": {
    "ExecuteTime": {
     "end_time": "2019-01-25T09:53:26.726136Z",
     "start_time": "2019-01-25T09:04:36.660694Z"
    }
   },
   "outputs": [
    {
     "name": "stdout",
     "output_type": "stream",
     "text": [
      "+----------+---------------------+------------------------+------------------------+\n",
      "|          |          DE         |          DCDE          |         DCDE 2         |\n",
      "+----------+---------------------+------------------------+------------------------+\n",
      "|   Mean   | -188.24357392420205 |  -186.73090883099945   |  -186.73090883102162   |\n",
      "|   Std    |  3.878334359927333  | 1.0342805369914487e-10 | 1.4168486809718274e-11 |\n",
      "|   Best   | -205.56440709628717 |  -186.73090883102392   |   -186.730908831024    |\n",
      "|  Worst   | -186.73090883523892 |   -186.7309088289982   |   -186.7309088307644   |\n",
      "| Time (s) |  1.4849147548675536 |   0.721404464006424    |   0.7217828855514526   |\n",
      "+----------+---------------------+------------------------+------------------------+\n",
      "Run 1000, Ellapsed: 00:48:50, Remaining: 00:00:00\n"
     ]
    }
   ],
   "source": [
    "dcde2Fitness = np.zeros(runs)\n",
    "dcdeFitness = np.zeros(runs)\n",
    "deFitness = np.zeros(runs)\n",
    "\n",
    "dcde2Time = np.zeros(runs)\n",
    "dcdeTime = np.zeros(runs)\n",
    "deTime = np.zeros(runs)\n",
    "\n",
    "globalStart = time.time()\n",
    "run = 0\n",
    "for r in range(runs):\n",
    "\n",
    "    # regular DE\n",
    "    deStart = time.time()\n",
    "    deBest = de.optimize(\n",
    "        populationSize = populationSize,\n",
    "        boundaries = boundaries,\n",
    "        dimensions = dimensions,\n",
    "        mutationFactor = mutationFactor,\n",
    "        crossingRate = crossingRate,\n",
    "        fitness = fitness,\n",
    "        maxgens = maxgens,\n",
    "        stopDiff = stopDiff,\n",
    "    )\n",
    "    deEllapsed = time.time() - deStart\n",
    "\n",
    "    # divide and conquer DE\n",
    "    dcdeStart = time.time()\n",
    "    dcdeBest = dcde.optimize(\n",
    "        populationSize = populationSize,\n",
    "        boundaries = boundaries,\n",
    "        dimensions = dimensions,\n",
    "        mutationFactor = mutationFactor,\n",
    "        crossingRate = crossingRate,\n",
    "        fitness = fitness,\n",
    "        maxgens = maxgens,\n",
    "        stopDiff = stopDiff,\n",
    "        maxsubgens = 500,\n",
    "    )\n",
    "    dcdeEllapsed = time.time() - dcdeStart\n",
    "    \n",
    "    # divide and conquer DE + different mutation on conquer step\n",
    "    dcde2Start = time.time()\n",
    "    dcde2Best = dcde.optimize(\n",
    "        populationSize = populationSize,\n",
    "        boundaries = boundaries,\n",
    "        dimensions = dimensions,\n",
    "        mutationFactor = mutationFactor + .25,\n",
    "        conquerMutationFactor = mutationFactor - .25,\n",
    "        crossingRate = crossingRate,\n",
    "        fitness = fitness,\n",
    "        maxgens = maxgens,\n",
    "        stopDiff = stopDiff,\n",
    "        maxsubgens = 500,\n",
    "    )\n",
    "    dcde2Ellapsed = time.time() - dcde2Start\n",
    "    \n",
    "    dcde2Fitness[r] = fitness(dcde2Best)\n",
    "    dcdeFitness[r] = fitness(dcdeBest)\n",
    "    deFitness[r]   = fitness(deBest)\n",
    "\n",
    "    dcde2Time[r] = dcde2Ellapsed    \n",
    "    dcdeTime[r] = dcdeEllapsed\n",
    "    deTime[r]   = deEllapsed\n",
    "    \n",
    "    run = r + 1  \n",
    "    deMean = np.mean(deFitness[:run])\n",
    "    deStd = np.std(deFitness[:run])\n",
    "    deMin = np.min(deFitness[:run])\n",
    "    deMax = np.max(deFitness[:run])\n",
    "    deMeanTime = np.mean(deTime[:run])\n",
    "    \n",
    "    dcdeMean = np.mean(dcdeFitness[:run])\n",
    "    dcdeStd = np.std(dcdeFitness[:run])\n",
    "    dcdeMin = np.min(dcdeFitness[:run])\n",
    "    dcdeMax = np.max(dcdeFitness[:run])\n",
    "    dcdeMeanTime = np.mean(dcdeTime[:run])\n",
    "  \n",
    "    dcde2Mean = np.mean(dcde2Fitness[:run])\n",
    "    dcde2Std = np.std(dcde2Fitness[:run])\n",
    "    dcde2Min = np.min(dcde2Fitness[:run])\n",
    "    dcde2Max = np.max(dcde2Fitness[:run])\n",
    "    dcde2MeanTime = np.mean(dcde2Time[:run])\n",
    "\n",
    "    ellapsedTime = time.time() - globalStart\n",
    "    remaining = (ellapsedTime/run) * (runs - run)\n",
    "    ellapsedTimeStr = time.strftime('%H:%M:%S', time.gmtime(ellapsedTime))\n",
    "    remainingStr = time.strftime('%H:%M:%S', time.gmtime(remaining))\n",
    "    \n",
    "    clear_output()\n",
    "    p = PrettyTable([\"\", \"DE\", \"DCDE\", \"DCDE 2\"])\n",
    "    \n",
    "    p.add_row([\"Mean\", deMean, dcdeMean, dcde2Mean])\n",
    "    p.add_row([\"Std\", deStd, dcdeStd, dcde2Std])\n",
    "    p.add_row([\"Best\", deMin, dcdeMin, dcde2Min])\n",
    "    p.add_row([\"Worst\", deMax, dcdeMax, dcde2Max])\n",
    "    p.add_row([\"Time (s)\", deMeanTime, dcdeMeanTime, dcde2MeanTime])\n",
    "    print(p)\n",
    "    print(f'Run {run}, Ellapsed: {ellapsedTimeStr}, Remaining: {remainingStr}')"
   ]
  },
  {
   "cell_type": "code",
   "execution_count": 2,
   "metadata": {
    "ExecuteTime": {
     "end_time": "2019-01-25T16:48:52.190245Z",
     "start_time": "2019-01-25T16:48:52.186732Z"
    }
   },
   "outputs": [],
   "source": [
    "runs = 1000\n",
    "\n",
    "populationSize = 20\n",
    "boundaries = [(-1000,1000)]\n",
    "dimensions = 200\n",
    "mutationFactor = 0.5\n",
    "crossingRate = 0.5\n",
    "fitness = rastrigin\n",
    "maxgens = 1500"
   ]
  },
  {
   "cell_type": "code",
   "execution_count": 3,
   "metadata": {
    "ExecuteTime": {
     "end_time": "2019-01-25T20:14:27.902492Z",
     "start_time": "2019-01-25T16:48:54.081439Z"
    }
   },
   "outputs": [
    {
     "name": "stdout",
     "output_type": "stream",
     "text": [
      "+----------+--------------------+--------------------+--------------------+\n",
      "|          |         DE         |        DCDE        |       DCDE 2       |\n",
      "+----------+--------------------+--------------------+--------------------+\n",
      "|   Mean   | 15571.860233101068 | 1834.8427181134768 | 1795.4590944097135 |\n",
      "|   Std    | 7531.825534832794  | 50.281310686262486 | 43.285060352851254 |\n",
      "|   Best   |  6566.24940339536  | 1695.3377152930282 | 1623.2221492154079 |\n",
      "|  Worst   | 93435.65913105303  | 2042.923103045816  | 1937.7190229103644 |\n",
      "| Time (s) | 4.033112906217575  | 4.148532928466797  | 4.150287723302841  |\n",
      "+----------+--------------------+--------------------+--------------------+\n",
      "Run 1000, Ellapsed: 03:25:33, Remaining: 00:00:00\n"
     ]
    }
   ],
   "source": [
    "dcde2Fitness = np.zeros(runs)\n",
    "dcdeFitness = np.zeros(runs)\n",
    "deFitness = np.zeros(runs)\n",
    "\n",
    "dcde2Time = np.zeros(runs)\n",
    "dcdeTime = np.zeros(runs)\n",
    "deTime = np.zeros(runs)\n",
    "\n",
    "globalStart = time.time()\n",
    "run = 0\n",
    "for r in range(runs):\n",
    "\n",
    "    # regular DE\n",
    "    deStart = time.time()\n",
    "    deBest = de.optimize(\n",
    "        populationSize = populationSize,\n",
    "        boundaries = boundaries,\n",
    "        dimensions = dimensions,\n",
    "        mutationFactor = mutationFactor,\n",
    "        crossingRate = crossingRate,\n",
    "        fitness = fitness,\n",
    "        maxgens = 2*maxgens # double since divide and conquer has extras maxgens on the divide cycle\n",
    "    )\n",
    "    deEllapsed = time.time() - deStart\n",
    "\n",
    "    # divide and conquer DE\n",
    "    dcdeStart = time.time()\n",
    "    dcdeBest = dcde.optimize(\n",
    "        populationSize = populationSize,\n",
    "        boundaries = boundaries,\n",
    "        dimensions = dimensions,\n",
    "        mutationFactor = mutationFactor,\n",
    "        crossingRate = crossingRate,\n",
    "        fitness = fitness,\n",
    "        maxgens = maxgens,\n",
    "    )\n",
    "    dcdeEllapsed = time.time() - dcdeStart\n",
    "    \n",
    "    # divide and conquer DE + different mutation on conquer step\n",
    "    dcde2Start = time.time()\n",
    "    dcde2Best = dcde.optimize(\n",
    "        populationSize = populationSize,\n",
    "        boundaries = boundaries,\n",
    "        dimensions = dimensions,\n",
    "        mutationFactor = .75,\n",
    "        conquerMutationFactor = .25,\n",
    "        crossingRate = crossingRate,\n",
    "        fitness = fitness,\n",
    "        maxgens = maxgens,\n",
    "    )\n",
    "    dcde2Ellapsed = time.time() - dcde2Start\n",
    "    \n",
    "    dcde2Fitness[r] = fitness(dcde2Best)\n",
    "    dcdeFitness[r] = fitness(dcdeBest)\n",
    "    deFitness[r]   = fitness(deBest)\n",
    "\n",
    "    dcde2Time[r] = dcde2Ellapsed    \n",
    "    dcdeTime[r] = dcdeEllapsed\n",
    "    deTime[r]   = deEllapsed\n",
    "    \n",
    "    run = r + 1  \n",
    "    deMean = np.mean(deFitness[:run])\n",
    "    deStd = np.std(deFitness[:run])\n",
    "    deMin = np.min(deFitness[:run])\n",
    "    deMax = np.max(deFitness[:run])\n",
    "    deMeanTime = np.mean(deTime[:run])\n",
    "    \n",
    "    dcdeMean = np.mean(dcdeFitness[:run])\n",
    "    dcdeStd = np.std(dcdeFitness[:run])\n",
    "    dcdeMin = np.min(dcdeFitness[:run])\n",
    "    dcdeMax = np.max(dcdeFitness[:run])\n",
    "    dcdeMeanTime = np.mean(dcdeTime[:run])\n",
    "  \n",
    "    dcde2Mean = np.mean(dcde2Fitness[:run])\n",
    "    dcde2Std = np.std(dcde2Fitness[:run])\n",
    "    dcde2Min = np.min(dcde2Fitness[:run])\n",
    "    dcde2Max = np.max(dcde2Fitness[:run])\n",
    "    dcde2MeanTime = np.mean(dcde2Time[:run])\n",
    "\n",
    "    ellapsedTime = time.time() - globalStart\n",
    "    remaining = (ellapsedTime/run) * (runs - run)\n",
    "    ellapsedTimeStr = time.strftime('%H:%M:%S', time.gmtime(ellapsedTime))\n",
    "    remainingStr = time.strftime('%H:%M:%S', time.gmtime(remaining))\n",
    "    \n",
    "    clear_output()\n",
    "    p = PrettyTable([\"\", \"DE\", \"DCDE\", \"DCDE 2\"])\n",
    "    \n",
    "    p.add_row([\"Mean\", deMean, dcdeMean, dcde2Mean])\n",
    "    p.add_row([\"Std\", deStd, dcdeStd, dcde2Std])\n",
    "    p.add_row([\"Best\", deMin, dcdeMin, dcde2Min])\n",
    "    p.add_row([\"Worst\", deMax, dcdeMax, dcde2Max])\n",
    "    p.add_row([\"Time (s)\", deMeanTime, dcdeMeanTime, dcde2MeanTime])\n",
    "    print(p)\n",
    "    print(f'Run {run}, Ellapsed: {ellapsedTimeStr}, Remaining: {remainingStr}')"
   ]
  },
  {
   "cell_type": "code",
   "execution_count": null,
   "metadata": {},
   "outputs": [],
   "source": []
  }
 ],
 "metadata": {
  "kernelspec": {
   "display_name": "Python 3",
   "language": "python",
   "name": "python3"
  },
  "language_info": {
   "codemirror_mode": {
    "name": "ipython",
    "version": 3
   },
   "file_extension": ".py",
   "mimetype": "text/x-python",
   "name": "python",
   "nbconvert_exporter": "python",
   "pygments_lexer": "ipython3",
   "version": "3.7.1"
  },
  "toc": {
   "base_numbering": 1,
   "nav_menu": {},
   "number_sections": true,
   "sideBar": true,
   "skip_h1_title": false,
   "title_cell": "Table of Contents",
   "title_sidebar": "Contents",
   "toc_cell": false,
   "toc_position": {},
   "toc_section_display": true,
   "toc_window_display": false
  },
  "varInspector": {
   "cols": {
    "lenName": 16,
    "lenType": 16,
    "lenVar": 40
   },
   "kernels_config": {
    "python": {
     "delete_cmd_postfix": "",
     "delete_cmd_prefix": "del ",
     "library": "var_list.py",
     "varRefreshCmd": "print(var_dic_list())"
    },
    "r": {
     "delete_cmd_postfix": ") ",
     "delete_cmd_prefix": "rm(",
     "library": "var_list.r",
     "varRefreshCmd": "cat(var_dic_list()) "
    }
   },
   "types_to_exclude": [
    "module",
    "function",
    "builtin_function_or_method",
    "instance",
    "_Feature"
   ],
   "window_display": false
  }
 },
 "nbformat": 4,
 "nbformat_minor": 2
}
