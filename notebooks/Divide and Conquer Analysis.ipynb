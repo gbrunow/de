{
 "cells": [
  {
   "cell_type": "code",
   "execution_count": 1,
   "metadata": {
    "ExecuteTime": {
     "end_time": "2019-01-24T06:25:04.028384Z",
     "start_time": "2019-01-24T06:25:04.022068Z"
    }
   },
   "outputs": [],
   "source": [
    "import numpy as np\n",
    "import sys\n",
    "import os\n",
    "sys.path.insert(0, os.path.join(os.getcwd(), '..', 'src'))\n",
    "from utils import de, dcde\n",
    "from benchmark.simple import rosenbrock, rastrigin, shubert\n",
    "from IPython.display import clear_output\n",
    "import time"
   ]
  },
  {
   "cell_type": "code",
   "execution_count": null,
   "metadata": {
    "ExecuteTime": {
     "start_time": "2019-01-24T06:25:04.020Z"
    }
   },
   "outputs": [],
   "source": [
    "runs = 1000\n",
    "\n",
    "populationSize = 20\n",
    "boundaries = [(-10,10)]\n",
    "dimensions = 200\n",
    "mutationFactor = 0.5\n",
    "crossingRate = 0.5\n",
    "fitness = rastrigin\n",
    "generations = 1500"
   ]
  },
  {
   "cell_type": "code",
   "execution_count": null,
   "metadata": {
    "ExecuteTime": {
     "start_time": "2019-01-24T06:25:04.022Z"
    }
   },
   "outputs": [
    {
     "name": "stdout",
     "output_type": "stream",
     "text": [
      "Run 302, Ellapsed: 00:38:49\n",
      "DCDE:  Mean = 1703.0641, Std = 37.5712, Min = 1525.8084, Max = 1785.4988, Time = 4\n",
      "DE:    Mean = 1897.8720, Std = 60.9825, Min = 1670.1830, Max = 2031.4597, Time = 4\n"
     ]
    }
   ],
   "source": [
    "dcdeFitness = np.zeros(runs)\n",
    "deFitness = np.zeros(runs)\n",
    "dcdeTime = np.zeros(runs)\n",
    "deTime = np.zeros(runs)\n",
    "\n",
    "globalStart = time.time()\n",
    "for r in range(runs):\n",
    "\n",
    "    dcdeStart = time.time()\n",
    "    # divide and conquer DE\n",
    "    dcdeBest = dcde.optimize(\n",
    "        populationSize = populationSize,\n",
    "        boundaries = boundaries,\n",
    "        dimensions = dimensions,\n",
    "        mutationFactor = mutationFactor,\n",
    "        crossingRate = crossingRate,\n",
    "        fitness = fitness,\n",
    "        generations = 2*generations # double since divide and conquer has extras generations on the divide cycle\n",
    "    )\n",
    "    dcdeEllapsed = time.time() - dcdeStart\n",
    "     \n",
    "    deStart = time.time()\n",
    "    # regular DE\n",
    "    deBest = de.optimize(\n",
    "        populationSize = populationSize,\n",
    "        boundaries = boundaries,\n",
    "        dimensions = dimensions,\n",
    "        mutationFactor = mutationFactor,\n",
    "        crossingRate = crossingRate,\n",
    "        fitness = fitness,\n",
    "        generations = 2*generations # double since divide and conquer has extras generations on the divide cycle\n",
    "    )\n",
    "    deEllapsed = time.time() - deStart\n",
    "    \n",
    "    dcdeFitness[r] = fitness(dcdeBest)\n",
    "    deFitness[r]   = fitness(deBest)\n",
    "    \n",
    "    dcdeTime[r] = dcdeEllapsed\n",
    "    deTime[r]   = dcdeEllapsed\n",
    "    \n",
    "    run = r + 1\n",
    "    dcdeMean = np.mean(dcdeFitness[:run])\n",
    "    dcdeStd = np.std(dcdeFitness[:run])\n",
    "    dcdeMin = np.min(dcdeFitness[:run])\n",
    "    dcdeMax = np.max(dcdeFitness[:run])\n",
    "    dcdeMeanTime = np.mean(dcdeTime[:run])\n",
    "    \n",
    "    deMean = np.mean(deFitness[:run])\n",
    "    deStd = np.std(deFitness[:run])\n",
    "    deMin = np.min(deFitness[:run])\n",
    "    deMax = np.max(deFitness[:run])\n",
    "    deMeanTime = np.mean(deTime[:run])\n",
    "        \n",
    "    clear_output()\n",
    "    ellapsedTime = time.strftime('%H:%M:%S', time.gmtime(time.time() - globalStart))\n",
    "    print(f'Run {run}, Ellapsed: {ellapsedTime}')\n",
    "    print(f'DCDE:  Mean = {dcdeMean:.4f}, Std = {dcdeStd:.4f}, Min = {dcdeMin:.4f}, Max = {dcdeMax:.4f}, Time = {dcdeMeanTime:.0f}')\n",
    "    print(f'DE:    Mean = {deMean:.4f}, Std = {deStd:.4f}, Min = {deMin:.4f}, Max = {deMax:.4f}, Time = {deMeanTime:.0f}')"
   ]
  },
  {
   "cell_type": "code",
   "execution_count": null,
   "metadata": {},
   "outputs": [],
   "source": []
  }
 ],
 "metadata": {
  "kernelspec": {
   "display_name": "Python 3",
   "language": "python",
   "name": "python3"
  },
  "language_info": {
   "codemirror_mode": {
    "name": "ipython",
    "version": 3
   },
   "file_extension": ".py",
   "mimetype": "text/x-python",
   "name": "python",
   "nbconvert_exporter": "python",
   "pygments_lexer": "ipython3",
   "version": "3.7.1"
  },
  "toc": {
   "base_numbering": 1,
   "nav_menu": {},
   "number_sections": true,
   "sideBar": true,
   "skip_h1_title": false,
   "title_cell": "Table of Contents",
   "title_sidebar": "Contents",
   "toc_cell": false,
   "toc_position": {},
   "toc_section_display": true,
   "toc_window_display": false
  },
  "varInspector": {
   "cols": {
    "lenName": 16,
    "lenType": 16,
    "lenVar": 40
   },
   "kernels_config": {
    "python": {
     "delete_cmd_postfix": "",
     "delete_cmd_prefix": "del ",
     "library": "var_list.py",
     "varRefreshCmd": "print(var_dic_list())"
    },
    "r": {
     "delete_cmd_postfix": ") ",
     "delete_cmd_prefix": "rm(",
     "library": "var_list.r",
     "varRefreshCmd": "cat(var_dic_list()) "
    }
   },
   "types_to_exclude": [
    "module",
    "function",
    "builtin_function_or_method",
    "instance",
    "_Feature"
   ],
   "window_display": false
  }
 },
 "nbformat": 4,
 "nbformat_minor": 2
}
