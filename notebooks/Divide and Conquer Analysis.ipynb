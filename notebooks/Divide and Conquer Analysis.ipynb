{
 "cells": [
  {
   "cell_type": "code",
   "execution_count": 1,
   "metadata": {
    "ExecuteTime": {
     "end_time": "2019-01-24T22:40:59.349213Z",
     "start_time": "2019-01-24T22:40:59.342628Z"
    }
   },
   "outputs": [],
   "source": [
    "import numpy as np\n",
    "import sys\n",
    "import os\n",
    "sys.path.insert(0, os.path.join(os.getcwd(), '..', 'src'))\n",
    "from utils import de, dcde\n",
    "from benchmark.simple import rosenbrock, rastrigin, shubert\n",
    "from IPython.display import clear_output\n",
    "import time"
   ]
  },
  {
   "cell_type": "code",
   "execution_count": 2,
   "metadata": {
    "ExecuteTime": {
     "end_time": "2019-01-24T22:40:59.354537Z",
     "start_time": "2019-01-24T22:40:59.351602Z"
    }
   },
   "outputs": [],
   "source": [
    "runs = 1000\n",
    "\n",
    "populationSize = 20\n",
    "boundaries = [(-1000,1000)]\n",
    "dimensions = 200\n",
    "mutationFactor = 0.5\n",
    "crossingRate = 0.5\n",
    "fitness = rastrigin\n",
    "generations = 1500"
   ]
  },
  {
   "cell_type": "code",
   "execution_count": 3,
   "metadata": {
    "ExecuteTime": {
     "end_time": "2019-01-25T00:41:12.853163Z",
     "start_time": "2019-01-24T22:40:59.357030Z"
    }
   },
   "outputs": [
    {
     "name": "stdout",
     "output_type": "stream",
     "text": [
      "Run 1000, Ellapsed: 02:00:13, Remaining: 00:00:00\n",
      "DE:     Mean = 15597.1190, Std = 8534.0920, Min = 6667.2886, Max = 112966.7769, Time = 3.4680s\n",
      "DCDE:   Mean = 4535.6234, Std = 392.8979, Min = 3394.6805, Max = 5651.8710, Time = 1.8659s\n",
      "DCDE2:  Mean = 4265.5117, Std = 300.0077, Min = 2939.2948, Max = 5026.4052, Time = 1.8784s\n"
     ]
    }
   ],
   "source": [
    "dcde2Fitness = np.zeros(runs)\n",
    "dcdeFitness = np.zeros(runs)\n",
    "deFitness = np.zeros(runs)\n",
    "\n",
    "dcde2Time = np.zeros(runs)\n",
    "dcdeTime = np.zeros(runs)\n",
    "deTime = np.zeros(runs)\n",
    "\n",
    "globalStart = time.time()\n",
    "run = 0\n",
    "for r in range(runs):\n",
    "\n",
    "    # regular DE\n",
    "    deStart = time.time()\n",
    "    deBest = de.optimize(\n",
    "        populationSize = populationSize,\n",
    "        boundaries = boundaries,\n",
    "        dimensions = dimensions,\n",
    "        mutationFactor = mutationFactor,\n",
    "        crossingRate = crossingRate,\n",
    "        fitness = fitness,\n",
    "        generations = 2*generations # double since divide and conquer has extras generations on the divide cycle\n",
    "    )\n",
    "    deEllapsed = time.time() - deStart\n",
    "\n",
    "    # divide and conquer DE\n",
    "    dcdeStart = time.time()\n",
    "    dcdeBest = dcde.optimize(\n",
    "        populationSize = populationSize,\n",
    "        boundaries = boundaries,\n",
    "        dimensions = dimensions,\n",
    "        mutationFactor = mutationFactor,\n",
    "        crossingRate = crossingRate,\n",
    "        fitness = fitness,\n",
    "        generations = generations,\n",
    "    )\n",
    "    dcdeEllapsed = time.time() - dcdeStart\n",
    "    \n",
    "    # divide and conquer DE + different mutation on conquer step\n",
    "    dcde2Start = time.time()\n",
    "    dcde2Best = dcde.optimize(\n",
    "        populationSize = populationSize,\n",
    "        boundaries = boundaries,\n",
    "        dimensions = dimensions,\n",
    "        mutationFactor = .75,\n",
    "        conquerMutationFactor = .25,\n",
    "        crossingRate = crossingRate,\n",
    "        fitness = fitness,\n",
    "        generations = generations,\n",
    "        increaseMutation = True,\n",
    "    )\n",
    "    dcde2Ellapsed = time.time() - dcde2Start\n",
    "    \n",
    "    dcde2Fitness[r] = fitness(dcde2Best)\n",
    "    dcdeFitness[r] = fitness(dcdeBest)\n",
    "    deFitness[r]   = fitness(deBest)\n",
    "\n",
    "    dcde2Time[r] = dcde2Ellapsed    \n",
    "    dcdeTime[r] = dcdeEllapsed\n",
    "    deTime[r]   = deEllapsed\n",
    "    \n",
    "    run = r + 1  \n",
    "    deMean = np.mean(deFitness[:run])\n",
    "    deStd = np.std(deFitness[:run])\n",
    "    deMin = np.min(deFitness[:run])\n",
    "    deMax = np.max(deFitness[:run])\n",
    "    deMeanTime = np.mean(deTime[:run])\n",
    "    \n",
    "    dcdeMean = np.mean(dcdeFitness[:run])\n",
    "    dcdeStd = np.std(dcdeFitness[:run])\n",
    "    dcdeMin = np.min(dcdeFitness[:run])\n",
    "    dcdeMax = np.max(dcdeFitness[:run])\n",
    "    dcdeMeanTime = np.mean(dcdeTime[:run])\n",
    "  \n",
    "    dcde2Mean = np.mean(dcde2Fitness[:run])\n",
    "    dcde2Std = np.std(dcde2Fitness[:run])\n",
    "    dcde2Min = np.min(dcde2Fitness[:run])\n",
    "    dcde2Max = np.max(dcde2Fitness[:run])\n",
    "    dcde2MeanTime = np.mean(dcde2Time[:run])\n",
    "\n",
    "    ellapsedTime = time.time() - globalStart\n",
    "    remaining = (ellapsedTime/run) * (runs - run)\n",
    "    ellapsedTimeStr = time.strftime('%H:%M:%S', time.gmtime(ellapsedTime))\n",
    "    remainingStr = time.strftime('%H:%M:%S', time.gmtime(remaining))\n",
    "    \n",
    "    clear_output()\n",
    "    print(f'Run {run}, Ellapsed: {ellapsedTimeStr}, Remaining: {remainingStr}')\n",
    "    print(f'DE:     Mean = {deMean:.4f}, Std = {deStd:.4f}, Min = {deMin:.4f}, Max = {deMax:.4f}, Time = {deMeanTime:.4f}s')\n",
    "    print(f'DCDE:   Mean = {dcdeMean:.4f}, Std = {dcdeStd:.4f}, Min = {dcdeMin:.4f}, Max = {dcdeMax:.4f}, Time = {dcdeMeanTime:.4f}s')\n",
    "    print(f'DCDE2:  Mean = {dcde2Mean:.4f}, Std = {dcde2Std:.4f}, Min = {dcde2Min:.4f}, Max = {dcde2Max:.4f}, Time = {dcde2MeanTime:.4f}s')\n"
   ]
  },
  {
   "cell_type": "code",
   "execution_count": null,
   "metadata": {},
   "outputs": [],
   "source": []
  }
 ],
 "metadata": {
  "kernelspec": {
   "display_name": "Python 3",
   "language": "python",
   "name": "python3"
  },
  "language_info": {
   "codemirror_mode": {
    "name": "ipython",
    "version": 3
   },
   "file_extension": ".py",
   "mimetype": "text/x-python",
   "name": "python",
   "nbconvert_exporter": "python",
   "pygments_lexer": "ipython3",
   "version": "3.7.1"
  },
  "toc": {
   "base_numbering": 1,
   "nav_menu": {},
   "number_sections": true,
   "sideBar": true,
   "skip_h1_title": false,
   "title_cell": "Table of Contents",
   "title_sidebar": "Contents",
   "toc_cell": false,
   "toc_position": {},
   "toc_section_display": true,
   "toc_window_display": false
  },
  "varInspector": {
   "cols": {
    "lenName": 16,
    "lenType": 16,
    "lenVar": 40
   },
   "kernels_config": {
    "python": {
     "delete_cmd_postfix": "",
     "delete_cmd_prefix": "del ",
     "library": "var_list.py",
     "varRefreshCmd": "print(var_dic_list())"
    },
    "r": {
     "delete_cmd_postfix": ") ",
     "delete_cmd_prefix": "rm(",
     "library": "var_list.r",
     "varRefreshCmd": "cat(var_dic_list()) "
    }
   },
   "types_to_exclude": [
    "module",
    "function",
    "builtin_function_or_method",
    "instance",
    "_Feature"
   ],
   "window_display": false
  }
 },
 "nbformat": 4,
 "nbformat_minor": 2
}
