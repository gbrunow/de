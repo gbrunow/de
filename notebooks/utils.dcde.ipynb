{
 "cells": [
  {
   "cell_type": "code",
   "execution_count": 1,
   "metadata": {
    "ExecuteTime": {
     "end_time": "2019-01-24T10:39:53.955000Z",
     "start_time": "2019-01-24T10:39:53.948831Z"
    }
   },
   "outputs": [],
   "source": [
    "import numpy as np\n",
    "import sys\n",
    "import os\n",
    "sys.path.insert(0, os.path.join(os.getcwd(), '..', 'src'))\n",
    "from utils import de, dcde\n",
    "from benchmark.simple import rosenbrock, rastrigin, shubert"
   ]
  },
  {
   "cell_type": "code",
   "execution_count": 2,
   "metadata": {
    "ExecuteTime": {
     "end_time": "2019-01-24T10:39:57.644646Z",
     "start_time": "2019-01-24T10:39:53.957638Z"
    }
   },
   "outputs": [
    {
     "name": "stdout",
     "output_type": "stream",
     "text": [
      "1887.258795436181\n"
     ]
    }
   ],
   "source": [
    "best = de.optimize(\n",
    "    populationSize = 20,\n",
    "    boundaries = [(-10,10)],\n",
    "    dimensions = 200,\n",
    "    mutationFactor = 0.5,\n",
    "    crossingRate = 0.5,\n",
    "    fitness = rastrigin,\n",
    "    generations = 2*1500\n",
    ")\n",
    "\n",
    "print(rastrigin(best))"
   ]
  },
  {
   "cell_type": "code",
   "execution_count": 3,
   "metadata": {
    "ExecuteTime": {
     "end_time": "2019-01-24T10:39:59.647470Z",
     "start_time": "2019-01-24T10:39:57.646348Z"
    },
    "scrolled": true
   },
   "outputs": [
    {
     "name": "stdout",
     "output_type": "stream",
     "text": [
      "1790.3392442822806\n"
     ]
    }
   ],
   "source": [
    "best = dcde.optimize(\n",
    "    populationSize = 20,\n",
    "    boundaries = [(-10,10)],\n",
    "    dimensions = 200,\n",
    "    mutationFactor = 0.5,\n",
    "    crossingRate = 0.5,\n",
    "    fitness = rastrigin,\n",
    "    generations = 1500,\n",
    "    groups = 10,\n",
    ")\n",
    "\n",
    "print(rastrigin(best))"
   ]
  }
 ],
 "metadata": {
  "kernelspec": {
   "display_name": "Python 3",
   "language": "python",
   "name": "python3"
  },
  "language_info": {
   "codemirror_mode": {
    "name": "ipython",
    "version": 3
   },
   "file_extension": ".py",
   "mimetype": "text/x-python",
   "name": "python",
   "nbconvert_exporter": "python",
   "pygments_lexer": "ipython3",
   "version": "3.7.1"
  },
  "toc": {
   "base_numbering": 1,
   "nav_menu": {},
   "number_sections": true,
   "sideBar": true,
   "skip_h1_title": false,
   "title_cell": "Table of Contents",
   "title_sidebar": "Contents",
   "toc_cell": false,
   "toc_position": {},
   "toc_section_display": true,
   "toc_window_display": false
  },
  "varInspector": {
   "cols": {
    "lenName": 16,
    "lenType": 16,
    "lenVar": 40
   },
   "kernels_config": {
    "python": {
     "delete_cmd_postfix": "",
     "delete_cmd_prefix": "del ",
     "library": "var_list.py",
     "varRefreshCmd": "print(var_dic_list())"
    },
    "r": {
     "delete_cmd_postfix": ") ",
     "delete_cmd_prefix": "rm(",
     "library": "var_list.r",
     "varRefreshCmd": "cat(var_dic_list()) "
    }
   },
   "types_to_exclude": [
    "module",
    "function",
    "builtin_function_or_method",
    "instance",
    "_Feature"
   ],
   "window_display": false
  }
 },
 "nbformat": 4,
 "nbformat_minor": 2
}
