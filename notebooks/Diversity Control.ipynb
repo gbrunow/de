{
 "cells": [
  {
   "cell_type": "markdown",
   "metadata": {},
   "source": [
    "# Diversity Control"
   ]
  },
  {
   "cell_type": "code",
   "execution_count": 1,
   "metadata": {
    "ExecuteTime": {
     "end_time": "2019-01-22T16:42:29.690119Z",
     "start_time": "2019-01-22T16:42:29.681711Z"
    }
   },
   "outputs": [],
   "source": [
    "import numpy as np\n",
    "import sys\n",
    "import os\n",
    "sys.path.insert(0, os.path.join(os.getcwd(), '..', 'src'))\n",
    "from utils import de\n",
    "from benchmark.simple import rosenbrock, rastrigin"
   ]
  },
  {
   "cell_type": "markdown",
   "metadata": {},
   "source": [
    "## Validation"
   ]
  },
  {
   "cell_type": "markdown",
   "metadata": {},
   "source": [
    "### Rosenbrock"
   ]
  },
  {
   "cell_type": "code",
   "execution_count": 2,
   "metadata": {
    "ExecuteTime": {
     "end_time": "2019-01-22T16:42:29.745430Z",
     "start_time": "2019-01-22T16:42:29.742500Z"
    }
   },
   "outputs": [],
   "source": [
    "NP = 10\n",
    "D = 20\n",
    "min = -10\n",
    "max = 10\n",
    "F = 0.25\n",
    "CR = 0.25\n",
    "fitness = rosenbrock\n",
    "n = 100\n",
    "\n",
    "runs = 1000"
   ]
  },
  {
   "cell_type": "markdown",
   "metadata": {},
   "source": [
    "#### Regular DE"
   ]
  },
  {
   "cell_type": "code",
   "execution_count": 3,
   "metadata": {
    "ExecuteTime": {
     "end_time": "2019-01-22T16:42:45.001671Z",
     "start_time": "2019-01-22T16:42:29.774214Z"
    }
   },
   "outputs": [],
   "source": [
    "noControlResults = np.zeros(runs)\n",
    "\n",
    "for i in range(runs):\n",
    "    best = de.optimize(\n",
    "        populationSize = NP,\n",
    "        dimentions = D,\n",
    "        min = min,\n",
    "        max = max,\n",
    "        mutationFactor = F,\n",
    "        crossingRate = CR,\n",
    "        fitness = fitness,\n",
    "        generations = n,\n",
    "        controlDiversity = False\n",
    "    )\n",
    "    \n",
    "    noControlResults[i] = fitness(best)\n",
    "    \n",
    "noControlMean = np.mean(noControlResults)\n",
    "noControlStd = np.std(noControlResults)"
   ]
  },
  {
   "cell_type": "code",
   "execution_count": 4,
   "metadata": {
    "ExecuteTime": {
     "end_time": "2019-01-22T16:42:45.007615Z",
     "start_time": "2019-01-22T16:42:45.003978Z"
    },
    "variables": {
     "noControlMean": "0.055136729034440765",
     "noControlStd": "0.07365124298354975"
    }
   },
   "outputs": [
    {
     "name": "stdout",
     "output_type": "stream",
     "text": [
      "Mean: 0.320650078466488\n",
      "Standard Deviation: 0.4108148497106801\n"
     ]
    }
   ],
   "source": [
    "print(f'Mean: {noControlMean}')\n",
    "print(f'Standard Deviation: {noControlStd}')"
   ]
  },
  {
   "cell_type": "markdown",
   "metadata": {},
   "source": [
    "#### Diversity Control"
   ]
  },
  {
   "cell_type": "code",
   "execution_count": 5,
   "metadata": {
    "ExecuteTime": {
     "end_time": "2019-01-22T16:43:01.007527Z",
     "start_time": "2019-01-22T16:42:45.009653Z"
    }
   },
   "outputs": [],
   "source": [
    "controlResults = np.zeros(runs)\n",
    "\n",
    "for i in range(runs):\n",
    "    best = de.optimize(\n",
    "        populationSize = NP,\n",
    "        dimentions = D,\n",
    "        min = min,\n",
    "        max = max,\n",
    "        mutationFactor = F,\n",
    "        crossingRate = CR,\n",
    "        fitness = fitness,\n",
    "        generations = n,\n",
    "        controlDiversity = True,\n",
    "        zeta = 3\n",
    "    )\n",
    "    \n",
    "    controlResults[i] = fitness(best)\n",
    "    \n",
    "controlMean = np.mean(controlResults)\n",
    "controlStd = np.std(controlResults)"
   ]
  },
  {
   "cell_type": "code",
   "execution_count": 6,
   "metadata": {
    "ExecuteTime": {
     "end_time": "2019-01-22T16:43:01.013720Z",
     "start_time": "2019-01-22T16:43:01.010545Z"
    },
    "variables": {
     "controlMean": "0.05108237879645374",
     "controlStd": "0.06599892710630985"
    }
   },
   "outputs": [
    {
     "name": "stdout",
     "output_type": "stream",
     "text": [
      "Mean: 0.32782427892417015\n",
      "Standard Deviation: 0.43818066981034665\n"
     ]
    }
   ],
   "source": [
    "print(f'Mean: {controlMean}')\n",
    "print(f'Standard Deviation: {controlStd}')"
   ]
  },
  {
   "cell_type": "markdown",
   "metadata": {},
   "source": [
    "### Rastrigin"
   ]
  },
  {
   "cell_type": "code",
   "execution_count": 7,
   "metadata": {
    "ExecuteTime": {
     "end_time": "2019-01-22T16:43:01.019847Z",
     "start_time": "2019-01-22T16:43:01.016777Z"
    }
   },
   "outputs": [],
   "source": [
    "NP = 10\n",
    "D = 20\n",
    "min = -10\n",
    "max = 10\n",
    "F = 0.25\n",
    "CR = 0.25\n",
    "fitness = rastrigin\n",
    "n = 100\n",
    "\n",
    "runs = 10000"
   ]
  },
  {
   "cell_type": "markdown",
   "metadata": {},
   "source": [
    "#### Regular DE"
   ]
  },
  {
   "cell_type": "code",
   "execution_count": 8,
   "metadata": {
    "ExecuteTime": {
     "end_time": "2019-01-22T16:45:52.193550Z",
     "start_time": "2019-01-22T16:43:01.021389Z"
    }
   },
   "outputs": [],
   "source": [
    "noControlResults = np.zeros(runs)\n",
    "\n",
    "for i in range(runs):\n",
    "    best = de.optimize(\n",
    "        populationSize = NP,\n",
    "        dimentions = D,\n",
    "        min = min,\n",
    "        max = max,\n",
    "        mutationFactor = F,\n",
    "        crossingRate = CR,\n",
    "        fitness = fitness,\n",
    "        generations = n,\n",
    "        controlDiversity = False\n",
    "    )\n",
    "    \n",
    "    noControlResults[i] = fitness(best)\n",
    "    \n",
    "noControlMean = np.mean(noControlResults)\n",
    "noControlStd = np.std(noControlResults)"
   ]
  },
  {
   "cell_type": "code",
   "execution_count": 9,
   "metadata": {
    "ExecuteTime": {
     "end_time": "2019-01-22T16:45:52.198161Z",
     "start_time": "2019-01-22T16:45:52.195291Z"
    }
   },
   "outputs": [
    {
     "name": "stdout",
     "output_type": "stream",
     "text": [
      "Mean: 190.0171877057726\n",
      "Standard Deviation: 24.691081411018438\n"
     ]
    }
   ],
   "source": [
    "print(f'Mean: {noControlMean}')\n",
    "print(f'Standard Deviation: {noControlStd}')"
   ]
  },
  {
   "cell_type": "markdown",
   "metadata": {},
   "source": [
    "#### Diversity Control"
   ]
  },
  {
   "cell_type": "code",
   "execution_count": 10,
   "metadata": {
    "ExecuteTime": {
     "end_time": "2019-01-22T16:48:55.570100Z",
     "start_time": "2019-01-22T16:45:52.200371Z"
    }
   },
   "outputs": [],
   "source": [
    "controlResults = np.zeros(runs)\n",
    "\n",
    "for i in range(runs):\n",
    "    best = de.optimize(\n",
    "        populationSize = NP,\n",
    "        dimentions = D,\n",
    "        min = min,\n",
    "        max = max,\n",
    "        mutationFactor = F,\n",
    "        crossingRate = CR,\n",
    "        fitness = fitness,\n",
    "        generations = n,\n",
    "        controlDiversity = True,\n",
    "        zeta = 3\n",
    "    )\n",
    "    \n",
    "    controlResults[i] = fitness(best)\n",
    "    \n",
    "controlMean = np.mean(controlResults)\n",
    "controlStd = np.std(controlResults)"
   ]
  },
  {
   "cell_type": "code",
   "execution_count": 11,
   "metadata": {
    "ExecuteTime": {
     "end_time": "2019-01-22T16:48:55.574982Z",
     "start_time": "2019-01-22T16:48:55.571794Z"
    }
   },
   "outputs": [
    {
     "name": "stdout",
     "output_type": "stream",
     "text": [
      "Mean: 189.9140676428751\n",
      "Standard Deviation: 24.40524288149559\n"
     ]
    }
   ],
   "source": [
    "print(f'Mean: {controlMean}')\n",
    "print(f'Standard Deviation: {controlStd}')"
   ]
  },
  {
   "cell_type": "code",
   "execution_count": null,
   "metadata": {},
   "outputs": [],
   "source": []
  }
 ],
 "metadata": {
  "kernelspec": {
   "display_name": "Python 3",
   "language": "python",
   "name": "python3"
  },
  "language_info": {
   "codemirror_mode": {
    "name": "ipython",
    "version": 3
   },
   "file_extension": ".py",
   "mimetype": "text/x-python",
   "name": "python",
   "nbconvert_exporter": "python",
   "pygments_lexer": "ipython3",
   "version": "3.7.1"
  },
  "toc": {
   "base_numbering": 1,
   "nav_menu": {},
   "number_sections": true,
   "sideBar": true,
   "skip_h1_title": false,
   "title_cell": "Table of Contents",
   "title_sidebar": "Contents",
   "toc_cell": false,
   "toc_position": {},
   "toc_section_display": true,
   "toc_window_display": false
  },
  "varInspector": {
   "cols": {
    "lenName": 16,
    "lenType": 16,
    "lenVar": 40
   },
   "kernels_config": {
    "python": {
     "delete_cmd_postfix": "",
     "delete_cmd_prefix": "del ",
     "library": "var_list.py",
     "varRefreshCmd": "print(var_dic_list())"
    },
    "r": {
     "delete_cmd_postfix": ") ",
     "delete_cmd_prefix": "rm(",
     "library": "var_list.r",
     "varRefreshCmd": "cat(var_dic_list()) "
    }
   },
   "types_to_exclude": [
    "module",
    "function",
    "builtin_function_or_method",
    "instance",
    "_Feature"
   ],
   "window_display": false
  }
 },
 "nbformat": 4,
 "nbformat_minor": 2
}
