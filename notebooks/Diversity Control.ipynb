{
 "cells": [
  {
   "cell_type": "markdown",
   "metadata": {},
   "source": [
    "# Diversity Control"
   ]
  },
  {
   "cell_type": "code",
   "execution_count": 2,
   "metadata": {
    "ExecuteTime": {
     "end_time": "2019-01-22T07:21:59.364444Z",
     "start_time": "2019-01-22T07:21:59.359435Z"
    }
   },
   "outputs": [],
   "source": [
    "import numpy as np\n",
    "import sys\n",
    "import os\n",
    "sys.path.insert(0, os.path.join(os.getcwd(), '..', 'src'))\n",
    "from utils import de\n",
    "from benchmark.simple import rosenbrock, rastrigin"
   ]
  },
  {
   "cell_type": "markdown",
   "metadata": {},
   "source": [
    "## Validation"
   ]
  },
  {
   "cell_type": "markdown",
   "metadata": {},
   "source": [
    "### Rosenbrock"
   ]
  },
  {
   "cell_type": "code",
   "execution_count": 9,
   "metadata": {
    "ExecuteTime": {
     "end_time": "2019-01-22T07:29:19.546789Z",
     "start_time": "2019-01-22T07:29:19.543229Z"
    }
   },
   "outputs": [],
   "source": [
    "NP = 20\n",
    "D = 50\n",
    "min = -10\n",
    "max = 10\n",
    "F = 0.25\n",
    "CR = 0.25\n",
    "fitness = rosenbrock\n",
    "n = 250\n",
    "\n",
    "runs = 1000"
   ]
  },
  {
   "cell_type": "markdown",
   "metadata": {},
   "source": [
    "#### Regular DE"
   ]
  },
  {
   "cell_type": "code",
   "execution_count": 10,
   "metadata": {
    "ExecuteTime": {
     "end_time": "2019-01-22T07:30:40.174676Z",
     "start_time": "2019-01-22T07:29:20.878480Z"
    }
   },
   "outputs": [],
   "source": [
    "noControlResults = np.zeros(runs)\n",
    "\n",
    "for i in range(runs):\n",
    "    best = de.optimize(\n",
    "        populationSize = NP,\n",
    "        dimentions = D,\n",
    "        min = min,\n",
    "        max = max,\n",
    "        mutationFactor = F,\n",
    "        crossingRate = CR,\n",
    "        fitness = fitness,\n",
    "        generations = n,\n",
    "        controlDiversity = False\n",
    "    )\n",
    "    \n",
    "    noControlResults[i] = fitness(best)\n",
    "    \n",
    "noControlMean = np.mean(noControlResults)\n",
    "noControlStd = np.std(noControlResults)"
   ]
  },
  {
   "cell_type": "code",
   "execution_count": 22,
   "metadata": {
    "ExecuteTime": {
     "end_time": "2019-01-22T13:53:30.498646Z",
     "start_time": "2019-01-22T13:53:30.495377Z"
    },
    "variables": {
     "noControlMean": "0.055136729034440765",
     "noControlStd": "0.07365124298354975"
    }
   },
   "outputs": [
    {
     "name": "stdout",
     "output_type": "stream",
     "text": [
      "Mean: 947.3634021845962\n",
      "Standard Deviation: 32.397804068481946\n"
     ]
    }
   ],
   "source": [
    "print(f'Mean: {noControlMean}')\n",
    "print(f'Standard Deviation: {noControlStd}')"
   ]
  },
  {
   "cell_type": "markdown",
   "metadata": {},
   "source": [
    "#### Diversity Control"
   ]
  },
  {
   "cell_type": "code",
   "execution_count": 11,
   "metadata": {
    "ExecuteTime": {
     "end_time": "2019-01-22T07:32:04.078965Z",
     "start_time": "2019-01-22T07:30:40.213007Z"
    }
   },
   "outputs": [],
   "source": [
    "controlResults = np.zeros(runs)\n",
    "\n",
    "for i in range(runs):\n",
    "    best = de.optimize(\n",
    "        populationSize = NP,\n",
    "        dimentions = D,\n",
    "        min = min,\n",
    "        max = max,\n",
    "        mutationFactor = F,\n",
    "        crossingRate = CR,\n",
    "        fitness = fitness,\n",
    "        generations = n,\n",
    "        controlDiversity = True\n",
    "    )\n",
    "    \n",
    "    controlResults[i] = fitness(best)\n",
    "    \n",
    "controlMean = np.mean(controlResults)\n",
    "controlStd = np.std(controlResults)"
   ]
  },
  {
   "cell_type": "code",
   "execution_count": 21,
   "metadata": {
    "ExecuteTime": {
     "end_time": "2019-01-22T13:53:13.187568Z",
     "start_time": "2019-01-22T13:53:13.184195Z"
    },
    "variables": {
     "controlMean": "0.05108237879645374",
     "controlStd": "0.06599892710630985"
    }
   },
   "outputs": [
    {
     "name": "stdout",
     "output_type": "stream",
     "text": [
      "Mean: 947.637773020949\n",
      "Standard Deviation: 32.364780048457305\n"
     ]
    }
   ],
   "source": [
    "print(f'Mean: {controlMean}')\n",
    "print(f'Standard Deviation: {controlStd}')"
   ]
  },
  {
   "cell_type": "markdown",
   "metadata": {},
   "source": [
    "### Rastrigin"
   ]
  },
  {
   "cell_type": "code",
   "execution_count": 12,
   "metadata": {
    "ExecuteTime": {
     "end_time": "2019-01-22T07:34:11.142870Z",
     "start_time": "2019-01-22T07:34:11.139600Z"
    }
   },
   "outputs": [],
   "source": [
    "NP = 100\n",
    "D = 100\n",
    "min = -10\n",
    "max = 10\n",
    "F = 0.25\n",
    "CR = 0.25\n",
    "fitness = rastrigin\n",
    "n = 1500\n",
    "\n",
    "runs = 1000"
   ]
  },
  {
   "cell_type": "markdown",
   "metadata": {},
   "source": [
    "#### Regular DE"
   ]
  },
  {
   "cell_type": "code",
   "execution_count": 13,
   "metadata": {
    "ExecuteTime": {
     "end_time": "2019-01-22T08:23:38.262827Z",
     "start_time": "2019-01-22T07:34:13.874522Z"
    }
   },
   "outputs": [],
   "source": [
    "noControlResults = np.zeros(runs)\n",
    "\n",
    "for i in range(runs):\n",
    "    best = de.optimize(\n",
    "        populationSize = NP,\n",
    "        dimentions = D,\n",
    "        min = min,\n",
    "        max = max,\n",
    "        mutationFactor = F,\n",
    "        crossingRate = CR,\n",
    "        fitness = fitness,\n",
    "        generations = n,\n",
    "        controlDiversity = False\n",
    "    )\n",
    "    \n",
    "    noControlResults[i] = fitness(best)\n",
    "    \n",
    "noControlMean = np.mean(noControlResults)\n",
    "noControlStd = np.std(noControlResults)"
   ]
  },
  {
   "cell_type": "code",
   "execution_count": 20,
   "metadata": {
    "ExecuteTime": {
     "end_time": "2019-01-22T13:52:26.874848Z",
     "start_time": "2019-01-22T13:52:26.871522Z"
    }
   },
   "outputs": [
    {
     "name": "stdout",
     "output_type": "stream",
     "text": [
      "Mean: 947.3634021845962\n",
      "Standard Deviation: 32.397804068481946\n"
     ]
    }
   ],
   "source": [
    "print(f'Mean: {noControlMean}')\n",
    "print(f'Standard Deviation: {noControlStd}')"
   ]
  },
  {
   "cell_type": "markdown",
   "metadata": {},
   "source": [
    "#### Diversity Control"
   ]
  },
  {
   "cell_type": "code",
   "execution_count": 14,
   "metadata": {
    "ExecuteTime": {
     "end_time": "2019-01-22T08:56:14.434416Z",
     "start_time": "2019-01-22T08:23:38.303313Z"
    }
   },
   "outputs": [],
   "source": [
    "controlResults = np.zeros(runs)\n",
    "\n",
    "for i in range(runs):\n",
    "    best = de.optimize(\n",
    "        populationSize = NP,\n",
    "        dimentions = D,\n",
    "        min = min,\n",
    "        max = max,\n",
    "        mutationFactor = F,\n",
    "        crossingRate = CR,\n",
    "        fitness = fitness,\n",
    "        generations = n,\n",
    "        controlDiversity = True\n",
    "    )\n",
    "    \n",
    "    controlResults[i] = fitness(best)\n",
    "    \n",
    "controlMean = np.mean(controlResults)\n",
    "controlStd = np.std(controlResults)"
   ]
  },
  {
   "cell_type": "code",
   "execution_count": 19,
   "metadata": {
    "ExecuteTime": {
     "end_time": "2019-01-22T13:51:49.222309Z",
     "start_time": "2019-01-22T13:51:49.219106Z"
    }
   },
   "outputs": [
    {
     "name": "stdout",
     "output_type": "stream",
     "text": [
      "Mean: 947.637773020949\n",
      "Standard Deviation: 32.364780048457305\n"
     ]
    }
   ],
   "source": [
    "print(f'Mean: {controlMean}')\n",
    "print(f'Standard Deviation: {controlStd}')"
   ]
  },
  {
   "cell_type": "code",
   "execution_count": null,
   "metadata": {},
   "outputs": [],
   "source": []
  }
 ],
 "metadata": {
  "kernelspec": {
   "display_name": "Python 3",
   "language": "python",
   "name": "python3"
  },
  "language_info": {
   "codemirror_mode": {
    "name": "ipython",
    "version": 3
   },
   "file_extension": ".py",
   "mimetype": "text/x-python",
   "name": "python",
   "nbconvert_exporter": "python",
   "pygments_lexer": "ipython3",
   "version": "3.7.1"
  },
  "toc": {
   "base_numbering": 1,
   "nav_menu": {},
   "number_sections": true,
   "sideBar": true,
   "skip_h1_title": false,
   "title_cell": "Table of Contents",
   "title_sidebar": "Contents",
   "toc_cell": false,
   "toc_position": {},
   "toc_section_display": true,
   "toc_window_display": false
  },
  "varInspector": {
   "cols": {
    "lenName": 16,
    "lenType": 16,
    "lenVar": 40
   },
   "kernels_config": {
    "python": {
     "delete_cmd_postfix": "",
     "delete_cmd_prefix": "del ",
     "library": "var_list.py",
     "varRefreshCmd": "print(var_dic_list())"
    },
    "r": {
     "delete_cmd_postfix": ") ",
     "delete_cmd_prefix": "rm(",
     "library": "var_list.r",
     "varRefreshCmd": "cat(var_dic_list()) "
    }
   },
   "types_to_exclude": [
    "module",
    "function",
    "builtin_function_or_method",
    "instance",
    "_Feature"
   ],
   "window_display": false
  }
 },
 "nbformat": 4,
 "nbformat_minor": 2
}
