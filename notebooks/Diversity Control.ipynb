{
 "cells": [
  {
   "cell_type": "markdown",
   "metadata": {},
   "source": [
    "# Diversity Control"
   ]
  },
  {
   "cell_type": "code",
   "execution_count": 20,
   "metadata": {
    "ExecuteTime": {
     "end_time": "2019-01-23T09:22:02.390155Z",
     "start_time": "2019-01-23T09:22:02.386432Z"
    }
   },
   "outputs": [],
   "source": [
    "import numpy as np\n",
    "import sys\n",
    "import os\n",
    "sys.path.insert(0, os.path.join(os.getcwd(), '..', 'src'))\n",
    "from utils import de\n",
    "from benchmark.simple import rosenbrock, rastrigin"
   ]
  },
  {
   "cell_type": "markdown",
   "metadata": {},
   "source": [
    "## Validation"
   ]
  },
  {
   "cell_type": "markdown",
   "metadata": {},
   "source": [
    "### Rosenbrock"
   ]
  },
  {
   "cell_type": "code",
   "execution_count": 21,
   "metadata": {
    "ExecuteTime": {
     "end_time": "2019-01-23T09:22:02.445850Z",
     "start_time": "2019-01-23T09:22:02.442571Z"
    }
   },
   "outputs": [],
   "source": [
    "NP = 10\n",
    "boundaries = [\n",
    "    (-10,10),\n",
    "    (-10,10),\n",
    "]\n",
    "CR = 0.25\n",
    "fitness = rosenbrock\n",
    "n = 1000\n",
    "\n",
    "runs = 1"
   ]
  },
  {
   "cell_type": "markdown",
   "metadata": {},
   "source": [
    "#### Regular DE"
   ]
  },
  {
   "cell_type": "code",
   "execution_count": 22,
   "metadata": {
    "ExecuteTime": {
     "end_time": "2019-01-23T09:22:02.553456Z",
     "start_time": "2019-01-23T09:22:02.470509Z"
    }
   },
   "outputs": [],
   "source": [
    "noControlResults = np.zeros(runs)\n",
    "\n",
    "for i in range(runs):\n",
    "    best = de.optimize(\n",
    "        populationSize = NP,\n",
    "        boundaries = boundaries,\n",
    "        mutationFactor = F,\n",
    "        crossingRate = CR,\n",
    "        fitness = fitness,\n",
    "        generations = n,\n",
    "        controlDiversity = False\n",
    "    )\n",
    "    \n",
    "    noControlResults[i] = fitness(best)\n",
    "    \n",
    "noControlMean = np.mean(noControlResults)\n",
    "noControlStd = np.std(noControlResults)"
   ]
  },
  {
   "cell_type": "code",
   "execution_count": 23,
   "metadata": {
    "ExecuteTime": {
     "end_time": "2019-01-23T09:22:02.558695Z",
     "start_time": "2019-01-23T09:22:02.555823Z"
    },
    "variables": {
     "noControlMean": "0.055136729034440765",
     "noControlStd": "0.07365124298354975"
    }
   },
   "outputs": [
    {
     "name": "stdout",
     "output_type": "stream",
     "text": [
      "Mean: 2.9179254992946222e-12\n",
      "Standard Deviation: 0.0\n"
     ]
    }
   ],
   "source": [
    "print(f'Mean: {noControlMean}')\n",
    "print(f'Standard Deviation: {noControlStd}')"
   ]
  },
  {
   "cell_type": "markdown",
   "metadata": {},
   "source": [
    "#### Diversity Control"
   ]
  },
  {
   "cell_type": "code",
   "execution_count": 24,
   "metadata": {
    "ExecuteTime": {
     "end_time": "2019-01-23T09:22:02.653599Z",
     "start_time": "2019-01-23T09:22:02.560668Z"
    }
   },
   "outputs": [],
   "source": [
    "controlResults = np.zeros(runs)\n",
    "\n",
    "for i in range(runs):\n",
    "    best = de.optimize(\n",
    "        populationSize = NP,\n",
    "        boundaries = boundaries,\n",
    "        mutationFactor = F,\n",
    "        crossingRate = CR,\n",
    "        fitness = fitness,\n",
    "        generations = n,\n",
    "        controlDiversity = True,\n",
    "        zeta = 3\n",
    "    )\n",
    "    \n",
    "    controlResults[i] = fitness(best)\n",
    "    \n",
    "controlMean = np.mean(controlResults)\n",
    "controlStd = np.std(controlResults)"
   ]
  },
  {
   "cell_type": "code",
   "execution_count": 25,
   "metadata": {
    "ExecuteTime": {
     "end_time": "2019-01-23T09:22:02.658853Z",
     "start_time": "2019-01-23T09:22:02.656229Z"
    },
    "variables": {
     "controlMean": "0.05108237879645374",
     "controlStd": "0.06599892710630985"
    }
   },
   "outputs": [
    {
     "name": "stdout",
     "output_type": "stream",
     "text": [
      "Mean: 0.048419103417413865\n",
      "Standard Deviation: 0.0\n"
     ]
    }
   ],
   "source": [
    "print(f'Mean: {controlMean}')\n",
    "print(f'Standard Deviation: {controlStd}')"
   ]
  },
  {
   "cell_type": "markdown",
   "metadata": {},
   "source": [
    "### Rastrigin"
   ]
  },
  {
   "cell_type": "code",
   "execution_count": 26,
   "metadata": {
    "ExecuteTime": {
     "end_time": "2019-01-23T09:22:02.666550Z",
     "start_time": "2019-01-23T09:22:02.663098Z"
    }
   },
   "outputs": [],
   "source": [
    "NP = 10\n",
    "boundaries = [\n",
    "    (-10,10),\n",
    "    (-10,10),\n",
    "]\n",
    "F = 0.25\n",
    "CR = 0.25\n",
    "fitness = rastrigin\n",
    "n = 100\n",
    "\n",
    "runs = 1000"
   ]
  },
  {
   "cell_type": "markdown",
   "metadata": {},
   "source": [
    "#### Regular DE"
   ]
  },
  {
   "cell_type": "code",
   "execution_count": 27,
   "metadata": {
    "ExecuteTime": {
     "end_time": "2019-01-23T09:22:11.669651Z",
     "start_time": "2019-01-23T09:22:02.668735Z"
    }
   },
   "outputs": [],
   "source": [
    "noControlResults = np.zeros(runs)\n",
    "\n",
    "for i in range(runs):\n",
    "    best = de.optimize(\n",
    "        populationSize = NP,\n",
    "        boundaries = boundaries,\n",
    "        mutationFactor = F,\n",
    "        crossingRate = CR,\n",
    "        fitness = fitness,\n",
    "        generations = n,\n",
    "        controlDiversity = False\n",
    "    )\n",
    "    \n",
    "    noControlResults[i] = fitness(best)\n",
    "    \n",
    "noControlMean = np.mean(noControlResults)\n",
    "noControlStd = np.std(noControlResults)"
   ]
  },
  {
   "cell_type": "code",
   "execution_count": 28,
   "metadata": {
    "ExecuteTime": {
     "end_time": "2019-01-23T09:22:11.674154Z",
     "start_time": "2019-01-23T09:22:11.671388Z"
    }
   },
   "outputs": [
    {
     "name": "stdout",
     "output_type": "stream",
     "text": [
      "Mean: 0.5248229320474895\n",
      "Standard Deviation: 0.5411387117118106\n"
     ]
    }
   ],
   "source": [
    "print(f'Mean: {noControlMean}')\n",
    "print(f'Standard Deviation: {noControlStd}')"
   ]
  },
  {
   "cell_type": "markdown",
   "metadata": {},
   "source": [
    "#### Diversity Control"
   ]
  },
  {
   "cell_type": "code",
   "execution_count": 29,
   "metadata": {
    "ExecuteTime": {
     "end_time": "2019-01-23T09:22:21.630935Z",
     "start_time": "2019-01-23T09:22:11.675884Z"
    }
   },
   "outputs": [],
   "source": [
    "controlResults = np.zeros(runs)\n",
    "\n",
    "for i in range(runs):\n",
    "    best = de.optimize(\n",
    "        populationSize = NP,\n",
    "        boundaries = boundaries,\n",
    "        mutationFactor = F,\n",
    "        crossingRate = CR,\n",
    "        fitness = fitness,\n",
    "        generations = n,\n",
    "        controlDiversity = True,\n",
    "        zeta = 3\n",
    "    )\n",
    "    \n",
    "    controlResults[i] = fitness(best)\n",
    "    \n",
    "controlMean = np.mean(controlResults)\n",
    "controlStd = np.std(controlResults)"
   ]
  },
  {
   "cell_type": "code",
   "execution_count": 30,
   "metadata": {
    "ExecuteTime": {
     "end_time": "2019-01-23T09:22:21.635998Z",
     "start_time": "2019-01-23T09:22:21.632769Z"
    }
   },
   "outputs": [
    {
     "name": "stdout",
     "output_type": "stream",
     "text": [
      "Mean: 0.5641407460182518\n",
      "Standard Deviation: 0.5719505949382534\n"
     ]
    }
   ],
   "source": [
    "print(f'Mean: {controlMean}')\n",
    "print(f'Standard Deviation: {controlStd}')"
   ]
  },
  {
   "cell_type": "code",
   "execution_count": null,
   "metadata": {},
   "outputs": [],
   "source": []
  }
 ],
 "metadata": {
  "kernelspec": {
   "display_name": "Python 3",
   "language": "python",
   "name": "python3"
  },
  "language_info": {
   "codemirror_mode": {
    "name": "ipython",
    "version": 3
   },
   "file_extension": ".py",
   "mimetype": "text/x-python",
   "name": "python",
   "nbconvert_exporter": "python",
   "pygments_lexer": "ipython3",
   "version": "3.7.1"
  },
  "toc": {
   "base_numbering": 1,
   "nav_menu": {},
   "number_sections": true,
   "sideBar": true,
   "skip_h1_title": false,
   "title_cell": "Table of Contents",
   "title_sidebar": "Contents",
   "toc_cell": false,
   "toc_position": {},
   "toc_section_display": true,
   "toc_window_display": false
  },
  "varInspector": {
   "cols": {
    "lenName": 16,
    "lenType": 16,
    "lenVar": 40
   },
   "kernels_config": {
    "python": {
     "delete_cmd_postfix": "",
     "delete_cmd_prefix": "del ",
     "library": "var_list.py",
     "varRefreshCmd": "print(var_dic_list())"
    },
    "r": {
     "delete_cmd_postfix": ") ",
     "delete_cmd_prefix": "rm(",
     "library": "var_list.r",
     "varRefreshCmd": "cat(var_dic_list()) "
    }
   },
   "types_to_exclude": [
    "module",
    "function",
    "builtin_function_or_method",
    "instance",
    "_Feature"
   ],
   "window_display": false
  }
 },
 "nbformat": 4,
 "nbformat_minor": 2
}
